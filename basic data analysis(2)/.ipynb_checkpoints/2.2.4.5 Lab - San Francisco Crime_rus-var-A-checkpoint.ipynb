{
 "cells": [
  {
   "cell_type": "markdown",
   "metadata": {},
   "source": [
    "# Студент (введите свои ФИО и номер группы)"
   ]
  },
  {
   "cell_type": "markdown",
   "metadata": {},
   "source": [
    "# Лабораторная - Преступление в Сан-Франциско - Вариант \"A\"\n",
    "### Задачи\n",
    "\n",
    "Продемонстрируйте свои знания о Data Analysis Lifecycle с использованием заданного набора данных и с применением инструментов Python и Jupyter Notebook\n",
    "\n",
    "#### Часть 1: Импорт Python пакетов\n",
    "#### Часть 2: Загрузка данных\n",
    "#### Часть 3: Подготовка данных\n",
    "#### Часть 4: Анализ данных\n",
    "#### Часть 5. Визуализация данных\n",
    "\n",
    "### История / Cценарий\n",
    "\n",
    "В этой лабораторной работе вы импортируете некоторые пакеты Python, необходимые для анализа набора данных, которые содержат в себе информацию о преступлениях в Сан-Франциско. Затем при помощи Python и Jupyter Notebook вы подготовите эти данные для анализа, проанализируете их, построите графики, и поделитесь своими результатами.\n",
    "\n",
    "### Необходимые ресурсы\n",
    "\n",
    "* 1 ПК с доступом в Интернет\n",
    "* Raspberry Pi версии 2 или выше\n",
    "* Библиотеки Python: pandas, numpy, matplotlib, folium, datetime, и csv\n",
    "* Файл данных: Map-Crime_Incidents-Previous_Three_Months.csv"
   ]
  },
  {
   "cell_type": "markdown",
   "metadata": {},
   "source": [
    "## Часть 1: Импорт Python пакетов\n",
    "\n",
    "В этой части вы импортируете следующие пакеты Python, необходимые для остальной части этой лабораторной работы.\n",
    "#### numpy \n",
    "NumPy - это фундаментальный пакет для научных вычислений в Python. Он содержит, среди прочего, мощный инструмент для создания N-мерных массивов  и сложные (широковещательные) функции.\n",
    "#### pandas \n",
    "Pandas - библиотека с открытым исходным кодом, лицензированная BSD, предоставляющая высокопроизводительные, простые в использовании структуры данных и инструменты анализа данных для языка программирования Python.\n",
    "#### matplotlib\n",
    "Matplotlib - это графическая библиотека для языка программирования Python и его расширения NumPy.\n",
    "#### folium \n",
    "Folim - это библиотека для создания интерактивной карты."
   ]
  },
  {
   "cell_type": "code",
   "execution_count": null,
   "metadata": {
    "collapsed": true
   },
   "outputs": [],
   "source": [
    "# Ячейка для кода № 1\n",
    "%matplotlib inline\n",
    "import numpy as np\n",
    "import pandas as pd\n",
    "import matplotlib.pyplot as plt\n",
    "import folium "
   ]
  },
  {
   "cell_type": "markdown",
   "metadata": {},
   "source": [
    "## Часть 2: Загрузка данных\n",
    "\n",
    "В этой части вы загрузите набор данных о преступлениях в Сан-Франциско и пакеты Python, необходимые для анализа и визуализации."
   ]
  },
  {
   "cell_type": "markdown",
   "metadata": {},
   "source": [
    "#### Шаг 1: Загрузите данные о преступлениях в Сан-Франциско в кадр данных.\n",
    "На этом этапе вы импортируете данные о преступлениях в Сан-Франциско из файла значений, разделенных запятыми (csv), в кадр данных"
   ]
  },
  {
   "cell_type": "code",
   "execution_count": null,
   "metadata": {
    "collapsed": true
   },
   "outputs": [],
   "source": [
    "# Ячейка для кода № 2\n",
    "# Это должен быть локальный путь\n",
    "dataset_path = './Data/Map-Crime_Incidents-Previous_Three_Months.csv'\n",
    "\n",
    "# считывание исходного набора данных (в формате значений, разделённых запятыми) в кадр данных\n",
    "SF = pd.read_csv(dataset_path)"
   ]
  },
  {
   "cell_type": "markdown",
   "metadata": {},
   "source": [
    "Для просмотра первых пяти строк файла csv используется команда `head` в Linux."
   ]
  },
  {
   "cell_type": "code",
   "execution_count": null,
   "metadata": {
    "collapsed": true
   },
   "outputs": [],
   "source": [
    "# Ячейка для кода № 3\n",
    "!head -n 5 ./Data/Map-Crime_Incidents-Previous_Three_Months.csv"
   ]
  },
  {
   "cell_type": "markdown",
   "metadata": {},
   "source": [
    "#### Шаг 2. Просмотрите импортированные данные.\n",
    "\n",
    "a) Набрав имя переменной кадра данных в ячейку, вы можете визуализировать верхнюю и нижнюю строки структурированным способом."
   ]
  },
  {
   "cell_type": "code",
   "execution_count": null,
   "metadata": {
    "collapsed": true
   },
   "outputs": [],
   "source": [
    "# Ячейка для кода № 4\n",
    "pd.set_option('display.max_rows', 10) #Визуализировать 10 строк \n",
    "SF"
   ]
  },
  {
   "cell_type": "markdown",
   "metadata": {},
   "source": [
    "b) Используйте функцию `columns` для просмотра имени переменных в кадре данных."
   ]
  },
  {
   "cell_type": "code",
   "execution_count": null,
   "metadata": {
    "collapsed": true
   },
   "outputs": [],
   "source": [
    "# Ячейка для кода № 5\n",
    "SF.columns"
   ]
  },
  {
   "cell_type": "markdown",
   "metadata": {},
   "source": [
    "Сколько переменных содержится в кадре данных SF (игнорируйте индекс)?"
   ]
  },
  {
   "cell_type": "markdown",
   "metadata": {},
   "source": []
  },
  {
   "cell_type": "markdown",
   "metadata": {},
   "source": [
    "c) Используйте функцию `len`, чтобы определить количество строк в наборе данных."
   ]
  },
  {
   "cell_type": "code",
   "execution_count": null,
   "metadata": {
    "collapsed": true
   },
   "outputs": [],
   "source": [
    "# Ячейка для кода № 6\n",
    "len(SF)"
   ]
  },
  {
   "cell_type": "markdown",
   "metadata": {},
   "source": [
    "## Часть 3: Подготовка данных\n",
    "\n",
    "Теперь, когда вы загрузили данные в рабочую среду и определили какой хотите провести анализ, настало время подготовить данные для анализа.\n"
   ]
  },
  {
   "cell_type": "markdown",
   "metadata": {},
   "source": [
    "#### Шаг 1: Извлеките месяц и день из поля «Дата»."
   ]
  },
  {
   "cell_type": "markdown",
   "metadata": {},
   "source": [
    "`lambda` - это ключевое слово Python для определения так называемых *анонимных функций*. `lambda` позволяет вам указать функцию в одной строке кода, не используя `def` и не определяя для нее конкретное имя. Синтаксис для выражения `lambda`:\n",
    "\n",
    "`lambda` *параметры* : *выражение*.\n",
    "\n",
    "В дальнейшем функция `lambda` используется для создания встроенной функции, которая выбирает только цифры месяца из переменной Date, и `int` для преобразования строкового представления в целое число. Затем используется функция `apply` из пакета *pandas* для применения этой функции ко всему столбцу (на практике, `apply` неявно определяет цикл `for` и передает по очереди строки в функцию `lambda`).  Такая же процедура может быть выполнена для Дня. "
   ]
  },
  {
   "cell_type": "code",
   "execution_count": null,
   "metadata": {
    "collapsed": true
   },
   "outputs": [],
   "source": [
    "# Ячейка для кода № 7\n",
    "SF['Month'] = SF['Date'].apply(lambda row: int(row[0:2]))\n",
    "SF['Day'] = SF['Date'].apply(lambda row: int(row[3:5]))"
   ]
  },
  {
   "cell_type": "markdown",
   "metadata": {},
   "source": [
    "Чтобы проверить, что эти две переменные были добавлены в кадр данных SF, используйте функцию `print`  для печати некоторых значений из этих столбцов и `type`, чтобы проверить, что эти новые столбцы содержат действительно числовые значения."
   ]
  },
  {
   "cell_type": "code",
   "execution_count": null,
   "metadata": {
    "collapsed": true
   },
   "outputs": [],
   "source": [
    "# Ячейка для кода № 8\n",
    "print(SF['Month'][0:2])\n",
    "print(SF['Day'][0:2])"
   ]
  },
  {
   "cell_type": "code",
   "execution_count": null,
   "metadata": {
    "collapsed": true
   },
   "outputs": [],
   "source": [
    "# Ячейка для кода № 9\n",
    "print(type(SF['Month'][0]))"
   ]
  },
  {
   "cell_type": "markdown",
   "metadata": {},
   "source": [
    "#### Шаг 2. Удалите переменные из кадра данных SF."
   ]
  },
  {
   "cell_type": "markdown",
   "metadata": {},
   "source": [
    "a) В столбце `IncidntNum` содержится много клеток с NaN. В этом случае это означает, что данные отсутствуют. Кроме того, функция `IncidntNum` не передаёт никакого значения на анализ. Этот столбец можно удалить из кадра данных. Одним из способов удаления нежелательных переменных в кадре данных является использование функции `del`."
   ]
  },
  {
   "cell_type": "code",
   "execution_count": null,
   "metadata": {
    "collapsed": true
   },
   "outputs": [],
   "source": [
    "# Ячейка для кода № 10\n",
    "del SF['IncidntNum']"
   ]
  },
  {
   "cell_type": "markdown",
   "metadata": {},
   "source": [
    "b) Аналогично, атрибут `Location` не будет участвовать в этом анализе. Поэтому его можно удалить из кадра данных. \n",
    "<p>В качестве альтернативы вы можете использовать функцию `drop` в кадре данных, указав, что *axis* равна 1 (0 для строк) и что для команды не требуется сохранение результата в другом значении (*inplace = True* )."
   ]
  },
  {
   "cell_type": "code",
   "execution_count": null,
   "metadata": {
    "collapsed": true
   },
   "outputs": [],
   "source": [
    "# Ячейка для кода № 11\n",
    "SF.drop('Location', axis=1, inplace=True )"
   ]
  },
  {
   "cell_type": "markdown",
   "metadata": {},
   "source": [
    "c) Убедитесь, что столбцы удалены."
   ]
  },
  {
   "cell_type": "code",
   "execution_count": null,
   "metadata": {
    "collapsed": true
   },
   "outputs": [],
   "source": [
    "# Ячейка для кода № 12\n",
    "SF.columns"
   ]
  },
  {
   "cell_type": "markdown",
   "metadata": {},
   "source": [
    "## Часть 4: Анализ данных\n",
    "\n",
    "Теперь, когда данные в кадре данных готовы, настало время их проанализировать. "
   ]
  },
  {
   "cell_type": "markdown",
   "metadata": {},
   "source": [
    "#### Шаг 1. Суммируйте переменные для получения статистической информации.\n",
    "\n",
    "a) Используйте функцию `value_counts`, чтобы суммировать по типу количество совершенных преступлений, а затем функцию `print`, чтобы отобразить содержимое переменной *CountCategory*."
   ]
  },
  {
   "cell_type": "code",
   "execution_count": null,
   "metadata": {
    "collapsed": true
   },
   "outputs": [],
   "source": [
    "# Ячейка для кода № 13\n",
    "CountCategory = SF['Category'].value_counts()\n",
    "print(CountCategory)"
   ]
  },
  {
   "cell_type": "markdown",
   "metadata": {},
   "source": [
    "b) По умолчанию подсчеты упорядочены в порядке убывания. Значение необязательного параметра *ascending* может быть установлено как *True*, чтобы отменить это поведение."
   ]
  },
  {
   "cell_type": "code",
   "execution_count": null,
   "metadata": {
    "collapsed": true
   },
   "outputs": [],
   "source": [
    "# Ячейка для кода № 14\n",
    "SF['Category'].value_counts(ascending=True)"
   ]
  },
  {
   "cell_type": "markdown",
   "metadata": {},
   "source": [
    "Преступления какого типа были совершены чаще всего?"
   ]
  },
  {
   "cell_type": "markdown",
   "metadata": {},
   "source": []
  },
  {
   "cell_type": "markdown",
   "metadata": {},
   "source": [
    "c) Вложив две функции в одну команду, вы можете получить тот же результат уложившись в одну строку\n",
    "кода."
   ]
  },
  {
   "cell_type": "code",
   "execution_count": null,
   "metadata": {
    "collapsed": true
   },
   "outputs": [],
   "source": [
    "# Ячейка для кода № 15\n",
    "print(SF['Category'].value_counts(ascending=True))"
   ]
  },
  {
   "cell_type": "markdown",
   "metadata": {},
   "source": [
    "**Проблемный вопрос**: В каком из PdDistrict было больше всего случаев сообщения о преступлении? Напишите Python команду(ы)\n",
    "подтверждающие ваш ответ."
   ]
  },
  {
   "cell_type": "markdown",
   "metadata": {
    "collapsed": true
   },
   "source": []
  },
  {
   "cell_type": "code",
   "execution_count": null,
   "metadata": {
    "collapsed": true
   },
   "outputs": [],
   "source": [
    "# Ячейка для кода № 16\n",
    "# Возможный код для проблемного вопроса\n",
    "print(SF['PdDistrict'].value_counts(ascending=True))"
   ]
  },
  {
   "cell_type": "markdown",
   "metadata": {},
   "source": [
    "#### Шаг 2: Выделите данные в более мелкие кадры данных."
   ]
  },
  {
   "cell_type": "markdown",
   "metadata": {},
   "source": [
    "a) Логическое индексирование может использоваться для выбора только строк, для которых выполняется заданное условие. Например, следующий код извлекает только преступления, совершенные в августе, и сохраняет результат в новом кадре данных."
   ]
  },
  {
   "cell_type": "code",
   "execution_count": null,
   "metadata": {
    "collapsed": true
   },
   "outputs": [],
   "source": [
    "# Ячейка для кода № 17\n",
    "AugustCrimes = SF[SF['Month'] == 8]\n",
    "AugustCrimes"
   ]
  },
  {
   "cell_type": "markdown",
   "metadata": {},
   "source": [
    "Сколько преступных инцидентов было в августе? "
   ]
  },
  {
   "cell_type": "markdown",
   "metadata": {
    "collapsed": true
   },
   "source": []
  },
  {
   "cell_type": "markdown",
   "metadata": {},
   "source": [
    "Сколько краж было зарегистрировано в августе?"
   ]
  },
  {
   "cell_type": "markdown",
   "metadata": {},
   "source": []
  },
  {
   "cell_type": "code",
   "execution_count": null,
   "metadata": {
    "collapsed": true
   },
   "outputs": [],
   "source": [
    "# Ячейка для кода № 18\n",
    "# Возможный код вопроса: Сколько краж были зарегистрировано в августе?\n",
    "AugustCrimes = SF[SF['Month'] == 8]\n",
    "AugustCrimesB = SF[SF['Category'] == 'BURGLARY']\n",
    "len(AugustCrimesB)"
   ]
  },
  {
   "cell_type": "markdown",
   "metadata": {},
   "source": [
    "b) Чтобы создать подмножество кадра данных SF за определенный день, используйте операнд функции `query`, чтобы сравнить Месяц и День одновременно."
   ]
  },
  {
   "cell_type": "code",
   "execution_count": null,
   "metadata": {
    "collapsed": true
   },
   "outputs": [],
   "source": [
    "# Ячейка для кода № 19\n",
    "Crime0704 = SF.query('Month == 7 and Day == 4')\n",
    "Crime0704"
   ]
  },
  {
   "cell_type": "code",
   "execution_count": null,
   "metadata": {
    "collapsed": true
   },
   "outputs": [],
   "source": [
    "# Ячейка для кода № 20\n",
    "SF.columns"
   ]
  },
  {
   "cell_type": "markdown",
   "metadata": {},
   "source": [
    "## Part 5: Представление данных\n",
    "\n",
    "Визуализация и представление данных дает мгновенный обзор, который может быть не очевидным просто\n",
    "глядя на необработанные данные. Кадр данных SF содержит координаты долготы и широты, которые можно использовать для\n",
    "нанесения данных на график."
   ]
  },
  {
   "cell_type": "markdown",
   "metadata": {},
   "source": [
    "#### Шаг 1: Постройте график кадра данных SF с использованием переменных X и Y."
   ]
  },
  {
   "cell_type": "markdown",
   "metadata": {},
   "source": [
    "a) Используйте функцию `plot()` для построения кадра данных SF. Используйте необязательный параметр для построения графика в красном цвете и установки формы маркера в виде круга с помощью *ro* ."
   ]
  },
  {
   "cell_type": "code",
   "execution_count": null,
   "metadata": {
    "collapsed": true
   },
   "outputs": [],
   "source": [
    "# Ячейка для кода № 21\n",
    "plt.plot(SF['X'],SF['Y'], 'ro')\n",
    "plt.show()"
   ]
  },
  {
   "cell_type": "markdown",
   "metadata": {},
   "source": [
    "b) Определите количество полицейских районов, затем создайте словарь *pd_districts*, чтобы связать их строки с целым числом"
   ]
  },
  {
   "cell_type": "code",
   "execution_count": null,
   "metadata": {
    "collapsed": true
   },
   "outputs": [],
   "source": [
    "# Ячейка для кода № 22\n",
    "pd_districts = np.unique(SF['PdDistrict'])\n",
    "pd_districts_levels = dict(zip(pd_districts, range(len(pd_districts))))\n",
    "pd_districts_levels"
   ]
  },
  {
   "cell_type": "markdown",
   "metadata": {},
   "source": [
    "c) Используйте `apply` и `lambda`, чтобы добавить id полицейского департамента в новый столбец кадра данных."
   ]
  },
  {
   "cell_type": "code",
   "execution_count": null,
   "metadata": {
    "collapsed": true
   },
   "outputs": [],
   "source": [
    "# Ячейка для кода № 23\n",
    "SF['PdDistrictCode'] = SF['PdDistrict'].apply(lambda row: pd_districts_levels[row])"
   ]
  },
  {
   "cell_type": "markdown",
   "metadata": {},
   "source": [
    "d) Используйте только что созданный *PdDistrictCode* для автоматического изменения цвета"
   ]
  },
  {
   "cell_type": "code",
   "execution_count": null,
   "metadata": {
    "collapsed": true
   },
   "outputs": [],
   "source": [
    "# Ячейка для кода № 24\n",
    "plt.scatter(SF['X'], SF['Y'], c=SF['PdDistrictCode'])\n",
    "plt.show()"
   ]
  },
  {
   "cell_type": "markdown",
   "metadata": {},
   "source": [
    "#### Шаг 2: добавьте пакет Map, чтобы улучшить график."
   ]
  },
  {
   "cell_type": "markdown",
   "metadata": {},
   "source": [
    "На Шаге 1 вы создали простой сюжет, который показывает, где происходили инциденты с преступностью в округе SF. Этот график\n",
    "полезен, но `folium` предоставляет дополнительные функции, которые позволят вам наложить этот график на карту OpenStreet. "
   ]
  },
  {
   "cell_type": "markdown",
   "metadata": {},
   "source": [
    "a) `Folium` требует указания цвета маркера с использованием шестнадцатеричного значения. По этой причине мы используем пакет *colors* и выбираем необходимые цвета."
   ]
  },
  {
   "cell_type": "code",
   "execution_count": null,
   "metadata": {
    "collapsed": true
   },
   "outputs": [],
   "source": [
    "# Ячейка для кода № 25\n",
    "from matplotlib import colors\n",
    "districts = np.unique(SF['PdDistrict'])\n",
    "print(list(colors.cnames.values())[0:len(districts)]) "
   ]
  },
  {
   "cell_type": "markdown",
   "metadata": {},
   "source": [
    "b) Создайте цветной словарь для каждого полицейского района."
   ]
  },
  {
   "cell_type": "code",
   "execution_count": null,
   "metadata": {
    "collapsed": true
   },
   "outputs": [],
   "source": [
    "# Ячейка для кода № 26\n",
    "color_dict = dict(zip(districts, list(colors.cnames.values())[0:-1:len(districts)])) \n",
    "color_dict"
   ]
  },
  {
   "cell_type": "markdown",
   "metadata": {},
   "source": [
    "c) Создайте карту, используя средние значения координат SF Data, чтобы центрировать карту (используя `mean`). Чтобы уменьшить время вычисления, используется переменная *plotEvery* для ограничения количества построенных данных. Задайте ей значение 1, чтобы построить все строки (может потребоваться много времени, чтобы визуализировать карту)."
   ]
  },
  {
   "cell_type": "code",
   "execution_count": null,
   "metadata": {
    "collapsed": true
   },
   "outputs": [],
   "source": [
    "# Ячейка для кода № 27\n",
    "# Создание карты\n",
    "map_osm = folium.Map(location=[SF['Y'].mean(), SF['X'].mean()], zoom_start = 12)\n",
    "plotEvery = 50\n",
    "obs = list(zip( SF['Y'], SF['X'], SF['PdDistrict'])) \n",
    "\n",
    "for el in obs[0:-1:plotEvery]: \n",
    "    \n",
    "    folium.CircleMarker(el[0:2], color=color_dict[el[2]], fill_color=el[2],radius=10).add_to(map_osm)\n",
    "    "
   ]
  },
  {
   "cell_type": "code",
   "execution_count": null,
   "metadata": {
    "collapsed": true,
    "scrolled": true
   },
   "outputs": [],
   "source": [
    "# Ячейка для кода № 28\n",
    "map_osm"
   ]
  },
  {
   "cell_type": "markdown",
   "metadata": {
    "collapsed": true
   },
   "source": [
    "<font size='0.5'>&copy; 2017 Cisco and/or its affiliates. All rights reserved. This document is Cisco Public.<font>"
   ]
  }
 ],
 "metadata": {
  "kernelspec": {
   "display_name": "Python 3",
   "language": "python",
   "name": "python3"
  },
  "language_info": {
   "codemirror_mode": {
    "name": "ipython",
    "version": 3
   },
   "file_extension": ".py",
   "mimetype": "text/x-python",
   "name": "python",
   "nbconvert_exporter": "python",
   "pygments_lexer": "ipython3",
   "version": "3.7.0"
  }
 },
 "nbformat": 4,
 "nbformat_minor": 1
}
