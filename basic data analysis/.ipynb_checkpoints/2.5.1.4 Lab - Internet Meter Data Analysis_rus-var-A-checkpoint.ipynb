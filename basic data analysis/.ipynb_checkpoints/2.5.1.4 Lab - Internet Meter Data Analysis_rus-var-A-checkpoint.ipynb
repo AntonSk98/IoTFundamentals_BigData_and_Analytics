{
 "cells": [
  {
   "cell_type": "markdown",
   "metadata": {},
   "source": [
    "# Студент (введите свои ФИО и номер группы)"
   ]
  },
  {
   "cell_type": "markdown",
   "metadata": {},
   "source": [
    "# Лабораторная - Анализ данных скорости Интернета Вариант \"А\" "
   ]
  },
  {
   "cell_type": "markdown",
   "metadata": {},
   "source": [
    "### Цели\n",
    "<li>**Часть 1. Сбор и хранение данных**</li>\n",
    "<li>**Часть 2: Манипулирование данными**</li>\n",
    "### История/Cценарий\n",
    "В этой лабораторной работе вы получите статистику по скорости Интернета и сохраните данные в реальном времени в файле с разделителями-запятыми (csv). Вы также загрузите сохраненные данные из файла csv в структуру данных Python (в Pandas `DataFrame`) и используете её функции для изучения данных и управления им, чтобы сделать их удобными для восприятия.\n",
    "### Необходимые ресурсы\n",
    "* 1 ПК с доступом в Интернет\n",
    "* Raspberry Pi версии 2 или выше\n",
    "* Библиотеки Python: datetime, csv, subprocess, pandas, numpy\n",
    "* Файл данных: rpi_data_long.csv"
   ]
  },
  {
   "cell_type": "markdown",
   "metadata": {},
   "source": [
    "## Часть 1. Сбор и хранение данных\n",
    "<p>Цель первой части лабораторной работы - собрать измерения скорости интернета с помощью Raspberry Pi. Собираются три вида измерений:\n",
    "1. Скорость пинга\n",
    "2. Скорость загрузки\n",
    "3. Скорость выгрузки"
   ]
  },
  {
   "cell_type": "markdown",
   "metadata": {},
   "source": [
    "#### Шаг 1. Установите Speedtest и импортируйте библиотеки Python.\n",
    "На этом этапе вы установите Speedtest и импортируете библиотеки Python.\n",
    "<p>Speedtest-cli - это скрипт Python, который измеряет скорость загрузки и выгрузки вашего интернет-соединения. Для получения дополнительной информации о speedtest, перейдите на страницу https://github.com/sivel/speedtest-cli."
   ]
  },
  {
   "cell_type": "markdown",
   "metadata": {},
   "source": [
    "a) Установите `speedtest-cli`."
   ]
  },
  {
   "cell_type": "code",
   "execution_count": 1,
   "metadata": {},
   "outputs": [
    {
     "name": "stdout",
     "output_type": "stream",
     "text": [
      "Requirement already satisfied: speedtest-cli in c:\\users\\supermen\\anaconda3\\lib\\site-packages (2.0.0)\n"
     ]
    },
    {
     "name": "stderr",
     "output_type": "stream",
     "text": [
      "You are using pip version 10.0.1, however version 18.1 is available.\n",
      "You should consider upgrading via the 'python -m pip install --upgrade pip' command.\n"
     ]
    }
   ],
   "source": [
    "# Ячейка для кода №1\n",
    "!pip install speedtest-cli"
   ]
  },
  {
   "cell_type": "markdown",
   "metadata": {},
   "source": [
    "Этот cli позволяет Jupyter notebook подключаться к веб-сайту и хранить данные"
   ]
  },
  {
   "cell_type": "markdown",
   "metadata": {},
   "source": [
    "b) Импортируйте необходимые библиотеки Python."
   ]
  },
  {
   "cell_type": "code",
   "execution_count": null,
   "metadata": {
    "collapsed": true
   },
   "outputs": [],
   "source": [
    "# Ячейка для кода №2\n",
    "# Библиотека Python для управления данными даты и времени\n",
    "import datetime\n",
    "# Библиотека Python для чтения и записи csv-файлов\n",
    "import csv\n",
    "# Библиотека Python для выполнения команд bash из Jupyter notebook.\n",
    "# Если вы хотите узнать больше об этом, посетите этот ресурс: \n",
    "# http://www.pythonforbeginners.com/os/subprocess-for-system-administrators\n",
    "import subprocess"
   ]
  },
  {
   "cell_type": "markdown",
   "metadata": {},
   "source": [
    "#### Шаг 2. Создание временных меток с использованием пакета `datetime`.\n",
    "В этой лабораторной работе будут произведены измерения статистики скорости интернета. Важнейшим шагом в сборе данных для анализа для большинства приложений является сопоставление временных меток с измерениями. "
   ]
  },
  {
   "cell_type": "markdown",
   "metadata": {},
   "source": [
    "a) Чтобы создать временную метку, используйте функцию `datetime.now` пакета `datetime`: "
   ]
  },
  {
   "cell_type": "code",
   "execution_count": null,
   "metadata": {
    "collapsed": true
   },
   "outputs": [],
   "source": [
    "# Ячейка для кода №3\n",
    "date_time = datetime.datetime.now()\n",
    "print(date_time, type(date_time))"
   ]
  },
  {
   "cell_type": "markdown",
   "metadata": {},
   "source": [
    "b) Экземпляр класса `datetime` не может быть напрямую записан в текстовую форму. Для записи даты в строку воспользуйтесь функцией `strftime`. Аргументы этой функции определяют формат выходного теста. Описание этих параметров можно найти в документации по функции `strftime` на странице https://docs.python.org/2/library/time.html. "
   ]
  },
  {
   "cell_type": "code",
   "execution_count": null,
   "metadata": {
    "collapsed": true
   },
   "outputs": [],
   "source": [
    "# Ячейка для кода №4\n",
    "date_time.strftime('%a, %d %b %Y %H:%M:%S')"
   ]
  },
  {
   "cell_type": "markdown",
   "metadata": {},
   "source": [
    "После прочтения документации функции `strftime`, создайте метку времени и запишите её в строку в следующем формате: YYYY-MM-DD HH:MM:SS."
   ]
  },
  {
   "cell_type": "code",
   "execution_count": null,
   "metadata": {
    "collapsed": true
   },
   "outputs": [],
   "source": [
    "# Ячейка для кода №5\n",
    "# Введите ваш код\n"
   ]
  },
  {
   "cell_type": "markdown",
   "metadata": {},
   "source": [
    "#### Шаг 3. Запустите процесс и соберите выходные данные с помощью Python.\n",
    "\n",
    "Команда `speedtest-cli`, если она запускается с терминала, возвращает строку со скоростью загрузки и выгрузки. Чтобы выполнить команду из этого блокнота необходимо использовать модуль Python `subprocess`, который позволяет запускать процесс непосредственно из ячейки для ввода кода. "
   ]
  },
  {
   "cell_type": "markdown",
   "metadata": {},
   "source": [
    "a) Запустите тест скорости с помощью команды `speedtest-cli` из Python. Выходные данные будут сохранены в переменной  process_output."
   ]
  },
  {
   "cell_type": "code",
   "execution_count": null,
   "metadata": {
    "collapsed": true
   },
   "outputs": [],
   "source": [
    "# Ячейка для кода №6\n",
    "# Эта строка содержит командную строку для взаимодействия с speedtest.net\n",
    "speedtest_cmd = \"speedtest-cli --simple\"\n",
    "# Запустите процесс\n",
    "process = subprocess.Popen(speedtest_cmd.split(), stdout=subprocess.PIPE)\n",
    "# Соберите выходные данные\n",
    "process_output = process.communicate()[0]"
   ]
  },
  {
   "cell_type": "markdown",
   "metadata": {},
   "source": [
    "b) Выведите на экран полученные данные. Обратите внимание на тип переменной `process_output`."
   ]
  },
  {
   "cell_type": "code",
   "execution_count": null,
   "metadata": {
    "collapsed": true
   },
   "outputs": [],
   "source": [
    "# Ячейка для кода №7\n",
    "print(process_output, type(process_output))"
   ]
  },
  {
   "cell_type": "markdown",
   "metadata": {},
   "source": [
    "c) Разделите результат теста скорости и добавьте метку времени."
   ]
  },
  {
   "cell_type": "code",
   "execution_count": null,
   "metadata": {
    "collapsed": true
   },
   "outputs": [],
   "source": [
    "# Ячейка для кода №8\n",
    "# Сохраните время, в которое был выполнен тест скорости\n",
    "date_time = datetime.datetime.now().strftime(\"%Y-%m-%d %H:%M:%S\")\n",
    "process_output = process_output.split()\n",
    "process_output.append(date_time)\n",
    "print(process_output, type(process_output))"
   ]
  },
  {
   "cell_type": "markdown",
   "metadata": {},
   "source": [
    "d) Функция speedtest() создана для возврата результатов от команды speedtest-cli."
   ]
  },
  {
   "cell_type": "code",
   "execution_count": null,
   "metadata": {
    "collapsed": true
   },
   "outputs": [],
   "source": [
    "# Ячейка для кода №9\n",
    "# функции для выполнения теста скорости\n",
    "def speedtest():\n",
    "    # Нам нужно сохранить время, в которое был выполнен тест скорости\n",
    "    date_time = datetime.datetime.now().strftime(\"%Y-%m-%d %H:%M:%S\")\n",
    "    # Это строка содержит то, что мы будем писать в командной строке \n",
    "    # для взаимодействия с speedtest.net\n",
    "    speedtest_cmd = \"speedtest-cli --simple\"\n",
    "    # Теперь мы запустим этот процесс: \n",
    "    process = subprocess.Popen(speedtest_cmd.split(), stdout=subprocess.PIPE)\n",
    "    process_output = process.communicate()[0]\n",
    "    process_output = process_output.split()\n",
    "    # и добавляем дату и время \n",
    "    process_output.append(date_time)\n",
    "    return process_output"
   ]
  },
  {
   "cell_type": "markdown",
   "metadata": {},
   "source": [
    "Что возвращает функция speedtest()? Как просмотреть результаты функции speedtest()?"
   ]
  },
  {
   "cell_type": "markdown",
   "metadata": {},
   "source": []
  },
  {
   "cell_type": "code",
   "execution_count": null,
   "metadata": {
    "collapsed": true
   },
   "outputs": [],
   "source": [
    "# Ячейка для кода №10 \n",
    "# Код для просмотра результатов функции speedtest()\n"
   ]
  },
  {
   "cell_type": "markdown",
   "metadata": {},
   "source": [
    "#### Шаг 4: Сохраните вывод функции `speedtest()`.\n",
    "\n",
    "Значения, разделенные запятыми (csv), являются наиболее распространенным форматом импорта и экспорта для электронных таблиц и баз данных. Чтобы узнать больше о работе с csv в Python, перейдите на страницу https://docs.python.org/2/library/csv.html."
   ]
  },
  {
   "cell_type": "markdown",
   "metadata": {},
   "source": [
    "a) Создайте файл с именем test.txt в каталоге /tmp и напишите \"test_msg\" в файл."
   ]
  },
  {
   "cell_type": "code",
   "execution_count": null,
   "metadata": {
    "collapsed": true
   },
   "outputs": [],
   "source": [
    "# Ячейка для кода №11\n",
    "with open(\"/tmp/test.txt\",'w') as f:\n",
    "    f.write('test_msg')"
   ]
  },
  {
   "cell_type": "markdown",
   "metadata": {},
   "source": [
    "b) Используйте Linux команду `cat`, чтобы проверить создание и содержимое файла."
   ]
  },
  {
   "cell_type": "code",
   "execution_count": null,
   "metadata": {
    "collapsed": true
   },
   "outputs": [],
   "source": [
    "# Ячейка для кода №12\n",
    "!cat /tmp/test.txt"
   ]
  },
  {
   "cell_type": "markdown",
   "metadata": {},
   "source": [
    "c) Чтобы проверить, что файл успешно открывается:"
   ]
  },
  {
   "cell_type": "code",
   "execution_count": null,
   "metadata": {
    "collapsed": true
   },
   "outputs": [],
   "source": [
    "# Ячейка для кода №13\n",
    "with open(\"/tmp/test.txt\",'r') as f:\n",
    "   str = f.read()\n",
    "print(str)"
   ]
  },
  {
   "cell_type": "markdown",
   "metadata": {},
   "source": [
    "d) Понимание значения оператора `with`, особенно в сочетании с `try` и `except`, не требуется для остальной части этой лабораторной работы, но полезным ресурсом об этом является http://effbot.org/zone/python-with-statement.htm.\n",
    "<p>\n",
    "Чтобы записать в файл `csv`, необходимо создать объект `csv.writer`. Посетите https://docs.python.org/2/library/csv.html и узнайте, какую функцию объекта 'csv.writer' можно использовать для добавления строки в файл `csv`."
   ]
  },
  {
   "cell_type": "code",
   "execution_count": null,
   "metadata": {
    "collapsed": true
   },
   "outputs": [],
   "source": [
    "# Ячейка для кода №14\n",
    "# функция сохранения данных в csv\n",
    "def save_to_csv(data, filename):\n",
    "    try:\n",
    "        # Если файл существует, то мы хотим добавить в него новую строку с \n",
    "        # результатом текущего эксперимента\n",
    "        with open(filename + '.csv', 'a') as f:\n",
    "            wr = csv.writer(f)\n",
    "            wr.writerow(data)\n",
    "    except:\n",
    "        # Если он не существует, сначала создадим файл\n",
    "        with open(filename + '.csv', 'w') as f:\n",
    "            # Подсказка: это похоже на добавление новых строк в файл.\n",
    "            # Создайте объект записи csv\n",
    "            # ДОБАВЬТЕ СЮДА КОД\n",
    "            # Сохранить (записать) в файл\n",
    "            # ДОБАВЬТЕ СЮДА КОД"
   ]
  },
  {
   "cell_type": "markdown",
   "metadata": {},
   "source": [
    "#### Шаг 5: Проверьте собранные данные.\n",
    "Напишите функцию, чтобы открыть файл csv и распечатать его содержимое на экране. Вы можете найти пример в разделе 13.1.5 на https://docs.python.org/2/library/csv.html"
   ]
  },
  {
   "cell_type": "code",
   "execution_count": null,
   "metadata": {
    "collapsed": true
   },
   "outputs": [],
   "source": [
    "# Ячейка для кода №15\n",
    "def print_from_csv(filename): \n",
    "    with open(filename + '.csv', 'r') as f:\n",
    "            re = csv.reader(f)\n",
    "            # 1. Цикл по строкам\n",
    "            # 2. вывод на экран"
   ]
  },
  {
   "cell_type": "markdown",
   "metadata": {},
   "source": [
    "Теперь все функции, необходимые для сбора и хранения данных скорости Интернета, завершены.\n",
    "#### Шаг 6: Запустите Speedtest несколько раз и сохраните данные.\n",
    "a) Напишите цикл `for`, который обращается к speedtest 5 раз, распечатывает выходные данные тестов и сохраняет их в файле csv. "
   ]
  },
  {
   "cell_type": "code",
   "execution_count": null,
   "metadata": {
    "collapsed": true
   },
   "outputs": [],
   "source": [
    "# Ячейка для кода №16\n",
    "for i in range(5):\n",
    "    speedtest_output = speedtest()\n",
    "    print('Test number {}'.format(i))\n",
    "    print(speedtest_output)\n",
    "    save_to_csv(speedtest_output, '/tmp/rpi_data_test')\n",
    "    "
   ]
  },
  {
   "cell_type": "markdown",
   "metadata": {},
   "source": [
    "b) Отобразите файл, чтобы убедиться, что данные были сохранены правильно."
   ]
  },
  {
   "cell_type": "code",
   "execution_count": null,
   "metadata": {
    "collapsed": true
   },
   "outputs": [],
   "source": [
    "# Ячейка для кода №17\n",
    "print_from_csv('/tmp/rpi_data_test')\n"
   ]
  },
  {
   "cell_type": "markdown",
   "metadata": {},
   "source": [
    "Если требуется больший набор данных, speedtest может работать в фоновом режиме для большего количества образцов.\n",
    "\n",
    "Как бы вы изменили код, если хотите запустить его 100 раз?"
   ]
  },
  {
   "cell_type": "markdown",
   "metadata": {
    "collapsed": true
   },
   "source": []
  },
  {
   "cell_type": "code",
   "execution_count": null,
   "metadata": {
    "collapsed": true
   },
   "outputs": [],
   "source": [
    "# Ячейка для кода №18\n",
    "# Код для запуска 100 раз\n",
    "# for i in xrange(100):\n",
    "#     speedtest_output = speedtest()\n",
    "#     print 'Test number: {}'.format(i)\n",
    "#     print speedtest_output\n",
    "#     save_to_csv(speedtest_output, '/tmp/rpi_data')"
   ]
  },
  {
   "cell_type": "markdown",
   "metadata": {},
   "source": [
    "## Часть 2: Манипулирование данными"
   ]
  },
  {
   "cell_type": "markdown",
   "metadata": {},
   "source": [
    "Библиотека Python `pandas` очень полезна для работы со структурированными данными. Полную документацию можно найти здесь: http://pandas.pydata.org/pandas-docs/version/0.14.1/</font>\n",
    "\n",
    "Для этой части лабораторной работы будет использоваться более крупный набор данных. Имя файла - `rpi_data_long.csv`.\n",
    "\n",
    "#### Шаг 1: Импорт библиотек Python.\n",
    "\n",
    "Импорт `pandas` и других библиотек, используемых в последующих задачах"
   ]
  },
  {
   "cell_type": "code",
   "execution_count": null,
   "metadata": {
    "collapsed": true
   },
   "outputs": [],
   "source": [
    "# Ячейка для кода №19\n",
    "import datetime\n",
    "import csv\n",
    "import pandas as pd\n",
    "# NumPy - это библиотека, которая добавляет поддержку больших многомерных массивов и матриц\n",
    "# наряду с высокоуровневыми математическими функциями для работы с этими массивами\n",
    "import numpy as np"
   ]
  },
  {
   "cell_type": "markdown",
   "metadata": {},
   "source": [
    "#### Шаг 2. Загрузите файл `csv` в объект `DataFrame` с помощью `pandas`.\n",
    "\n",
    "`Pandas DataFrame` представляет собой двухмерную маркированную структуру данных с возможностью создания столбцов разных типов. Вы можете представить её в виде электронной либо SQL таблицы. Функция `read_csv` библиотеки pandas автоматически преобразует файл `csv` в объект `DataFrame`.\n",
    "\n",
    "Прочитайте документацию по `read_csv` на http://pandas.pydata.org/pandas-docs/version/0.14.1/generated/pandas.read_csv.html.\n",
    "Эта функция содержит множество параметров. Единственным обязательным является `filepath`, то есть расположение файла `csv`. Все остальные параметры являются необязательными.\n",
    "\n",
    "На этом этапе вы импортируете и просмотрите содержимое файла csv `rpi_data_long.csv`. Этот файл csv находится в том же каталоге, что и этот Jupyter notebook."
   ]
  },
  {
   "cell_type": "markdown",
   "metadata": {},
   "source": [
    "a) Назначьте файл `rpi_data_long.csv` переменной `data_file`."
   ]
  },
  {
   "cell_type": "code",
   "execution_count": null,
   "metadata": {
    "collapsed": true
   },
   "outputs": [],
   "source": [
    "# Ячейка для кода №20\n",
    "data_file = './Data/rpi_data_long.csv'"
   ]
  },
  {
   "cell_type": "markdown",
   "metadata": {},
   "source": [
    "b) Используйте Linux команду `head`, чтобы просмотреть первые 10 строк файла csv."
   ]
  },
  {
   "cell_type": "code",
   "execution_count": null,
   "metadata": {
    "collapsed": true,
    "scrolled": true
   },
   "outputs": [],
   "source": [
    "# Ячейка для кода №21\n",
    "!head -n 5 ./Data/rpi_data_long.csv"
   ]
  },
  {
   "cell_type": "markdown",
   "metadata": {},
   "source": [
    "c) Используйте параметр `names` функции `read_csv`, чтобы указать имена столбцов `DataFrame`."
   ]
  },
  {
   "cell_type": "code",
   "execution_count": null,
   "metadata": {
    "collapsed": true
   },
   "outputs": [],
   "source": [
    "# Ячейка для кода №22\n",
    "column_names = [ 'Type A', 'Measure A', 'Units A',\n",
    "                 'Type B', 'Measure B', 'Units B',\n",
    "                 'Type C', 'Measure C', 'Units C', \n",
    "                 'Datetime']"
   ]
  },
  {
   "cell_type": "markdown",
   "metadata": {},
   "source": [
    "d) Используйте функцию `read_csv` для чтения из `data_file` и назначьте `column_names` в качестве имен столбцов в кадре данных."
   ]
  },
  {
   "cell_type": "code",
   "execution_count": null,
   "metadata": {
    "collapsed": true
   },
   "outputs": [],
   "source": [
    "# Ячейка для кода №23\n",
    "with open(data_file, 'r') as f:\n",
    "    df_redundant = pd.read_csv(f, names = column_names)"
   ]
  },
  {
   "cell_type": "markdown",
   "metadata": {},
   "source": [
    "e) Команда `head()` отображает первые несколько строк кадра данных."
   ]
  },
  {
   "cell_type": "code",
   "execution_count": null,
   "metadata": {
    "collapsed": true
   },
   "outputs": [],
   "source": [
    "# Ячейка для кода №24\n",
    "# Вы можете указать количество строк, которые вы хотите вывести на экран: \n",
    "# передавая число как аргумент функции\n",
    "# (например, head(10))\n",
    "df_redundant.head()"
   ]
  },
  {
   "cell_type": "markdown",
   "metadata": {},
   "source": [
    "Как прочитать первые 20 строк файла csv?"
   ]
  },
  {
   "cell_type": "markdown",
   "metadata": {},
   "source": []
  },
  {
   "cell_type": "markdown",
   "metadata": {},
   "source": [
    "#### Шаг 3: Создайте краткое представление.\n",
    "На этом этапе вы создадите более компактное представление, используя копию кадра данных `df_redundant`."
   ]
  },
  {
   "cell_type": "markdown",
   "metadata": {},
   "source": [
    "a) Скопируйте `df_redundant` в другой кадр с названием `df_compact`, используя `copy()`."
   ]
  },
  {
   "cell_type": "code",
   "execution_count": null,
   "metadata": {
    "collapsed": true
   },
   "outputs": [],
   "source": [
    "# Ячейка для кода №25\n",
    "df_compact = df_redundant.copy()"
   ]
  },
  {
   "cell_type": "markdown",
   "metadata": {},
   "source": [
    "b) Переименуйте столбцы в соответствии с наименованиями измерений, как показано: \n",
    "\n",
    "    Measure A -> Ping (ms)\n",
    "    Measure B -> Download (Mbit/s)\n",
    "    Measure C -> Upload (Mbit/s)"
   ]
  },
  {
   "cell_type": "code",
   "execution_count": null,
   "metadata": {
    "collapsed": true,
    "scrolled": true
   },
   "outputs": [],
   "source": [
    "# Ячейка для кода №26\n",
    "df_compact.rename(columns={'Measure A':'Ping (ms)', \n",
    "                           'Measure B': 'Download (Mbit/s)',\n",
    "                           'Measure C': 'Upload (Mbit/s)'}, inplace=True)\n",
    "df_compact.head(3)"
   ]
  },
  {
   "cell_type": "markdown",
   "metadata": {},
   "source": [
    "c) Поскольку столбцы Types и Units  больше не нужны, их можно удалить"
   ]
  },
  {
   "cell_type": "code",
   "execution_count": null,
   "metadata": {
    "collapsed": true
   },
   "outputs": [],
   "source": [
    "# Ячейка для кода №27\n",
    "df_compact.drop(['Type A', 'Type B', 'Type C',\n",
    "         'Units A', 'Units B', 'Units C'], axis=1, inplace=True)\n",
    "df_compact.head()"
   ]
  },
  {
   "cell_type": "markdown",
   "metadata": {},
   "source": [
    "В приведенной выше таблице поле `Datetime`  является строкой. Pandas и Python предлагают ряд операций для работы с датой и временем, которые могут быть очень полезными.\n",
    "\n",
    "На следующем шаге строки в столбце `Datetime` будет разделены на два новых столбца.\n",
    "\n",
    "#### Шаг 4: Разделите данные на два столбца.\n",
    "На этом этапе вы будете использовать Pandas для создания столбцов `Date` и `Time` из столбца `Datetime`, а затем удалите столбец `Datetime`.\n",
    "<p>Функция `lambda` используется для создания двух анонимных функций, которые извлекают только дату и время из объекта `datetime`, соответственно. Затем используйте функцию `apply` из библиотеки `pandas`, чтобы применить эту функцию к целому столбцу (на практике, `apply` неявно определяет цикл `for` и передает строки одну за другой нашей функции `lambda`). Сохраните результат функций `apply` в двух новых столбцах `DataFrame`."
   ]
  },
  {
   "cell_type": "markdown",
   "metadata": {},
   "source": [
    "a) Примените функцию `lambda` для итерации по кадру данных, чтобы выделить дату из столбца `Datetime`."
   ]
  },
  {
   "cell_type": "code",
   "execution_count": null,
   "metadata": {
    "collapsed": true
   },
   "outputs": [],
   "source": [
    "# Ячейка для кода №28\n",
    "df_compact['Date'] = df_compact['Datetime'].apply(lambda dt_str: pd.to_datetime(dt_str).date())"
   ]
  },
  {
   "cell_type": "markdown",
   "metadata": {},
   "source": [
    "b) Повторите шаг a, чтобы выделить время из столбца  `Datetime`. "
   ]
  },
  {
   "cell_type": "code",
   "execution_count": null,
   "metadata": {
    "collapsed": true
   },
   "outputs": [],
   "source": [
    "# Ячейка для кода №29\n",
    "# Обратите внимание, что для этого требуется промежуточный шаг из-за того, как NaT обрабатывается функцией time().\n",
    "# Ссылка: https://github.com/pandas-dev/pandas/issues/11453\n",
    "temp = df_compact['Datetime'].apply(lambda dt_str: pd.to_datetime(dt_str))\n",
    "df_compact['Time'] = temp.dt.time"
   ]
  },
  {
   "cell_type": "markdown",
   "metadata": {},
   "source": [
    "c) Вся информация из столбца `Datetime` теперь скопирована в столбцы `Date` и `Time`. Столбец `Datetime` больше не нужен. Столбец `Datetime` можно удалить из кадра данных.\n",
    "<p>Введите код, чтобы удалить столбец `Datetime` в ячейку ниже."
   ]
  },
  {
   "cell_type": "code",
   "execution_count": null,
   "metadata": {
    "collapsed": true
   },
   "outputs": [],
   "source": [
    "# Ячейка для кода №30\n"
   ]
  },
  {
   "cell_type": "markdown",
   "metadata": {},
   "source": [
    "Введите код, чтобы вывести на экран первые три строки кадра данных, чтобы проверить изменения."
   ]
  },
  {
   "cell_type": "code",
   "execution_count": null,
   "metadata": {
    "collapsed": true
   },
   "outputs": [],
   "source": [
    "# Ячейка для кода №31\n"
   ]
  },
  {
   "cell_type": "markdown",
   "metadata": {},
   "source": [
    "d) Используйте функцию `type`, чтобы распечатать тип переменной для значений в столбцах `Date` и `Time`."
   ]
  },
  {
   "cell_type": "code",
   "execution_count": null,
   "metadata": {
    "collapsed": true
   },
   "outputs": [],
   "source": [
    "# Ячейка для кода №32\n",
    "print(df_compact['Date'][0], type(df_compact['Date'][0]) )\n",
    "print(df_compact['Time'][0], type(df_compact['Time'][0]) )"
   ]
  },
  {
   "cell_type": "markdown",
   "metadata": {},
   "source": [
    "#### Шаг 5. Сохраните новый кадр данных.\n",
    "Сохраните файл данных pandas `df_compact` как файл csv, называемый `rpi_data_compact`:"
   ]
  },
  {
   "cell_type": "code",
   "execution_count": null,
   "metadata": {
    "collapsed": true
   },
   "outputs": [],
   "source": [
    "# Ячейка для кода №33\n",
    "df_compact.to_csv('./Data/rpi_data_compact.csv')"
   ]
  },
  {
   "cell_type": "markdown",
   "metadata": {},
   "source": [
    "<font size='0.5'>&copy; 2017 Cisco and/or its affiliates. All rights reserved. This document is Cisco Public.<font>"
   ]
  }
 ],
 "metadata": {
  "anaconda-cloud": {},
  "kernelspec": {
   "display_name": "Python 3",
   "language": "python",
   "name": "python3"
  },
  "language_info": {
   "codemirror_mode": {
    "name": "ipython",
    "version": 3
   },
   "file_extension": ".py",
   "mimetype": "text/x-python",
   "name": "python",
   "nbconvert_exporter": "python",
   "pygments_lexer": "ipython3",
   "version": "3.7.0"
  }
 },
 "nbformat": 4,
 "nbformat_minor": 1
}
