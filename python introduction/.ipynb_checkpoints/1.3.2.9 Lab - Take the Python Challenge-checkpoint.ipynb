{
 "cells": [
  {
   "cell_type": "markdown",
   "metadata": {},
   "source": [
    "![Скрипин](Images/cisco.png)\n",
    "#Скрипин Антон"
   ]
  },
  {
   "cell_type": "markdown",
   "metadata": {},
   "source": [
    "# Lab - Примите вызов Python \n",
    "\n",
    "\n",
    "Это необязательное упражнение, чтобы проверить Ваше понимание основ Python. Однако мы настоятельно рекомендуем ученику выполнить эти упражнения, чтобы подготовиться к остальной части этого курса. Если Вы не знаете, как их решить, изучите лекции Python, доступные в папке Course Materials / Tutorials and Demos."
   ]
  },
  {
   "cell_type": "markdown",
   "metadata": {},
   "source": [
    "#### Ответьте на вопросы или выполните перечисленные ниже задачи, используйте описанный метод, если это применимо."
   ]
  },
  {
   "cell_type": "markdown",
   "metadata": {},
   "source": [
    "#### 1) Сколько будет если 3 возвести в 5 степень?"
   ]
  },
  {
   "cell_type": "code",
   "execution_count": 1,
   "metadata": {},
   "outputs": [
    {
     "data": {
      "text/plain": [
       "243"
      ]
     },
     "execution_count": 1,
     "metadata": {},
     "output_type": "execute_result"
    }
   ],
   "source": [
    "# Ячейка для кода №1\n",
    "3**5\n"
   ]
  },
  {
   "cell_type": "markdown",
   "metadata": {},
   "source": [
    "#### 2) Создайте переменную *`s`*, содержащую строку \"This course is amazing!\". Используя переменную, преобразуйте строку в список."
   ]
  },
  {
   "cell_type": "code",
   "execution_count": 2,
   "metadata": {},
   "outputs": [
    {
     "data": {
      "text/plain": [
       "['This', 'course', 'is', 'amazing!']"
      ]
     },
     "execution_count": 2,
     "metadata": {},
     "output_type": "execute_result"
    }
   ],
   "source": [
    "# Ячейка для кода №2\n",
    "s = \"This course is amazing!\"\n",
    "s.split()"
   ]
  },
  {
   "cell_type": "markdown",
   "metadata": {},
   "source": [
    "#### 3) Учитывая переменные height и mountain, используйте .format(), чтобы напечатать следующую строку:\n",
    "<center>`The height of Mt. Everest is 8848 meters.`</center>"
   ]
  },
  {
   "cell_type": "code",
   "execution_count": 5,
   "metadata": {},
   "outputs": [
    {
     "name": "stdout",
     "output_type": "stream",
     "text": [
      "The height of Mt. Everest is 8848 meters\n"
     ]
    }
   ],
   "source": [
    "# Ячейка для кода №3\n",
    "mountain = \"Mt. Everest\"\n",
    "height = 8848\n",
    "print(\"The height of {} is {} meters\".format( mountain , height ))"
   ]
  },
  {
   "cell_type": "markdown",
   "metadata": {},
   "source": [
    "#### 4) Учитывая следующий вложенный список, используйте индексирование, чтобы захватить слово `\"this\"`."
   ]
  },
  {
   "cell_type": "code",
   "execution_count": 9,
   "metadata": {},
   "outputs": [
    {
     "data": {
      "text/plain": [
       "'this'"
      ]
     },
     "execution_count": 9,
     "metadata": {},
     "output_type": "execute_result"
    }
   ],
   "source": [
    "# Ячейка для кода №4\n",
    "lst = ['a','b',[4,10,11],['c',[1,66,['this']],2,111],'e',7]\n",
    "lst[3][1][2][0]"
   ]
  },
  {
   "cell_type": "markdown",
   "metadata": {},
   "source": [
    "#### 5) Учитывая следующий вложенный словарь, захватите слово \"that\". Это упражнение немного сложнее."
   ]
  },
  {
   "cell_type": "code",
   "execution_count": 53,
   "metadata": {},
   "outputs": [
    {
     "data": {
      "text/plain": [
       "'that'"
      ]
     },
     "execution_count": 53,
     "metadata": {},
     "output_type": "execute_result"
    }
   ],
   "source": [
    "# Ячейка для кода №5\n",
    "d = {'k1':['val1','val2','val3',{'we':['need','to','go',{'deeper':[1,2,3,'that']}]}]}\n",
    "d['k1'][3]['we'][3]['deeper'][3]"
   ]
  },
  {
   "cell_type": "markdown",
   "metadata": {},
   "source": [
    "#### 6) В чем основное отличие между кортежем и списком? "
   ]
  },
  {
   "cell_type": "markdown",
   "metadata": {
    "collapsed": true
   },
   "source": [
    "*Кортеж является неизменяемым списком*"
   ]
  },
  {
   "cell_type": "markdown",
   "metadata": {},
   "source": [
    "#### 7) Создайте функцию GetDomain(), которая берёт имя домена в адресе электронной почты из строки в формате: `user@domain.com`.\n",
    "Так, например, передав ей \"user@domain.com\" она вернет: domain.com"
   ]
  },
  {
   "cell_type": "code",
   "execution_count": 42,
   "metadata": {},
   "outputs": [
    {
     "data": {
      "text/plain": [
       "'domain.com'"
      ]
     },
     "execution_count": 42,
     "metadata": {},
     "output_type": "execute_result"
    }
   ],
   "source": [
    "# Ячейка для кода №6\n",
    "def GetDomain(Domain):\n",
    "    return Domain.split(\"@\")[1]\n",
    "GetDomain('user@domain.com')"
   ]
  },
  {
   "cell_type": "markdown",
   "metadata": {},
   "source": [
    "#### 8) Создайте основную функцию findInternet(), которая вернет True, если слово 'Internet' содержится во входной строке. Не беспокойтесь о пограничных случаях как наличие символов пунктуации рядом со словом, но учитывайте регистр."
   ]
  },
  {
   "cell_type": "code",
   "execution_count": 39,
   "metadata": {},
   "outputs": [
    {
     "data": {
      "text/plain": [
       "False"
      ]
     },
     "execution_count": 39,
     "metadata": {},
     "output_type": "execute_result"
    }
   ],
   "source": [
    "# Ячейка для кода №7\n",
    "def findInternet(string):\n",
    "    return 'i' in string.lower().split()\n",
    "findInternet('The Internet Engineering Task Force was created in 1986')"
   ]
  },
  {
   "cell_type": "markdown",
   "metadata": {},
   "source": [
    "#### 9) Создайте функцию countIoT(),  которая подсчитывает сколько раз слово \"IoT\" встречается в строке.  Игнорируйте пограничные случаи, но учитывайте регистр."
   ]
  },
  {
   "cell_type": "code",
   "execution_count": 66,
   "metadata": {},
   "outputs": [
    {
     "data": {
      "text/plain": [
       "4"
      ]
     },
     "execution_count": 66,
     "metadata": {},
     "output_type": "execute_result"
    }
   ],
   "source": [
    "# Ячейка для кода №№8\n",
    "def countIoT(st):\n",
    "    count = st.lower().count('iot')\n",
    "    return count\n",
    "        \n",
    "    \n",
    "\n",
    "\n",
    "\n",
    "   \n",
    "countIoT('I don\\'t know how to spell IoT ! Is it IoT or iot ? What does iot mean anyway?')"
   ]
  },
  {
   "cell_type": "code",
   "execution_count": 90,
   "metadata": {},
   "outputs": [
    {
     "data": {
      "text/plain": [
       "4"
      ]
     },
     "execution_count": 90,
     "metadata": {},
     "output_type": "execute_result"
    }
   ],
   "source": [
    "import re\n",
    "str1 = 'I don\\'t know how to spell IoT ! Is it IoT or iot ? What does iot mean anyway?'\n",
    "len(re.findall(r'iot', str1.lower()))"
   ]
  },
  {
   "cell_type": "markdown",
   "metadata": {},
   "source": [
    "#### 10) Используйте лямбда-выражение и функцию filter() для фильтрации слов из списка, которые не начинаются с буквы 'd'. Например:\n",
    "\n",
    "    seq = ['data','salt' ,'dairy','cat', 'dog']\n",
    "\n",
    "должно быть отфильтровано в:\n",
    "\n",
    "    ['data', 'dairy', 'dog']"
   ]
  },
  {
   "cell_type": "code",
   "execution_count": 67,
   "metadata": {},
   "outputs": [
    {
     "data": {
      "text/plain": [
       "['data', 'dairy', 'dog']"
      ]
     },
     "execution_count": 67,
     "metadata": {},
     "output_type": "execute_result"
    }
   ],
   "source": [
    "# Ячейка для кода №9\n",
    "#То, что возвращает filter(), есть итератор, состоящий из тех элементов последовательности, \n",
    "#для которых переданная в качестве первого аргумента функция вернула \"правду\" (true).\n",
    "seq = ['data','salt' ,'dairy','cat', 'dog']\n",
    "list(filter(lambda x: x[0]=='d', seq))\n",
    "#list(filter(...))\n"
   ]
  },
  {
   "cell_type": "markdown",
   "metadata": {},
   "source": [
    "#### 11) Используйте лямбда-выражение и функцию map() для преобразования списка слов в верхний регистр. Например:"
   ]
  },
  {
   "cell_type": "markdown",
   "metadata": {},
   "source": [
    "seq = ['data','salt' ,'dairy','cat', 'dog']\n",
    "\n",
    "должно стать:\n",
    "\n",
    "   ['DATA', 'SALT', 'DAIRY', 'CAT', 'DOG']"
   ]
  },
  {
   "cell_type": "code",
   "execution_count": 68,
   "metadata": {},
   "outputs": [
    {
     "data": {
      "text/plain": [
       "['DATA', 'SALT', 'DAIRY', 'CAT', 'DOG']"
      ]
     },
     "execution_count": 68,
     "metadata": {},
     "output_type": "execute_result"
    }
   ],
   "source": [
    "# Ячейка для кода №10\n",
    "seq = ['data','salt' ,'dairy','cat', 'dog']\n",
    "list(map(lambda x: x.upper(), seq))"
   ]
  },
  {
   "cell_type": "markdown",
   "metadata": {},
   "source": [
    "#### 12) Представьте себе интеллектуальный термостат, который соединен с дверью для того, чтобы он мог определять, помимо температуры, когда люди входят или выходят из дома.\n",
    "Напишите функцию, которая, при температуре ниже 20 градусов Цельсия, и наличии в доме людей (используйте переменную типа boolean, которая будет передана как параметр функции), включает нагрев, возвращая строку \"Heating on\". Когда температура достигает 23 градусов или если в доме нет людей, то она возвращает строку \"Heating off\". Когда ни одно из этих условий не выполняется, функция возвращает \"Do nothing\"."
   ]
  },
  {
   "cell_type": "code",
   "execution_count": 71,
   "metadata": {},
   "outputs": [],
   "source": [
    "# Ячейка для кода №11\n",
    "def smart_thermostat(temp, people_in):\n",
    "    if temp<20 and people_in:\n",
    "        command = \"Heating on\"\n",
    "    elif temp>=23 or not people_in:\n",
    "        command = \"Heating off\"\n",
    "    else:\n",
    "        command = \"Do anything\"\n",
    "    return command"
   ]
  },
  {
   "cell_type": "code",
   "execution_count": 72,
   "metadata": {},
   "outputs": [
    {
     "data": {
      "text/plain": [
       "'Do anything'"
      ]
     },
     "execution_count": 72,
     "metadata": {},
     "output_type": "execute_result"
    }
   ],
   "source": [
    "# Ячейка для кода №12\n",
    "# Проверьте smart_thermostat()\n",
    "smart_thermostat(21,True)"
   ]
  },
  {
   "cell_type": "code",
   "execution_count": 73,
   "metadata": {},
   "outputs": [
    {
     "data": {
      "text/plain": [
       "'Heating off'"
      ]
     },
     "execution_count": 73,
     "metadata": {},
     "output_type": "execute_result"
    }
   ],
   "source": [
    "# Ячейка для кода №13\n",
    "# Проверьте smart_thermostat()\n",
    "smart_thermostat(21,False)"
   ]
  },
  {
   "cell_type": "markdown",
   "metadata": {},
   "source": [
    "#### 13) Функция zip(list1, list2) возвращает список кортежей, где i-й кортеж содержит i-й элемент из каждого списка аргументов. Используйте функцию zip для создания следующего списка кортежей:"
   ]
  },
  {
   "cell_type": "markdown",
   "metadata": {},
   "source": [
    "`zipped = [('Parking', -1), ('Shops',0), ('Food Court',1), ('Offices',2)]`"
   ]
  },
  {
   "cell_type": "code",
   "execution_count": 76,
   "metadata": {},
   "outputs": [
    {
     "name": "stdout",
     "output_type": "stream",
     "text": [
      "[('Parking', -1), ('Shops', 0), ('Food Court', 1), ('Offices', 2)]\n"
     ]
    }
   ],
   "source": [
    "# Ячейка для кода №14\n",
    "floor_types = ['Parking', 'Shops', 'Food Court', 'Offices']\n",
    "floor_numbers = range(-1,3)\n",
    "zipped = list(zip(floor_types, floor_numbers)) \n",
    "print(zipped)"
   ]
  },
  {
   "cell_type": "markdown",
   "metadata": {},
   "source": [
    "#### 14) Используйте функцию zip и dict() для создания словаря elevator_dict, где в качестве ключей выступают типы этажей, а значениями являются соответствующие им номера этажей, чтобы:\n",
    "elevator_dict[-1] = 'Parking'"
   ]
  },
  {
   "cell_type": "code",
   "execution_count": 82,
   "metadata": {},
   "outputs": [
    {
     "name": "stdout",
     "output_type": "stream",
     "text": [
      "{-1: 'Parking', 0: 'Shops', 1: 'Food Court', 2: 'Offices'}\n"
     ]
    }
   ],
   "source": [
    "# Ячейка для кода №15\n",
    "floor_types = ['Parking', 'Shops', 'Food Court', 'Offices']\n",
    "floors_numbers = range(-1,3)\n",
    "elevator_dict = dict(zip(floor_numbers, floor_types))\n",
    "print(elevator_dict)"
   ]
  },
  {
   "cell_type": "code",
   "execution_count": 83,
   "metadata": {},
   "outputs": [
    {
     "data": {
      "text/plain": [
       "'Parking'"
      ]
     },
     "execution_count": 83,
     "metadata": {},
     "output_type": "execute_result"
    }
   ],
   "source": [
    "# Ячейка для кода №16\n",
    "# Проверьте elevator_dict[-1]\n",
    "elevator_dict[-1]"
   ]
  },
  {
   "cell_type": "markdown",
   "metadata": {},
   "source": [
    "#### 15) Создайте класс `Elevator`. Конструктор принимает список строк `floor_types` и список целых чисел `floor_numbers`. Класс реализует методы 'ask_which_floor' и 'go_to_floor'. Результат этих методов должен выглядеть следующим образом:\n",
    "`floor_types = ['Parking', 'Shops', 'Food Court', 'Offices']\n",
    "floors_numbers = range(-1,4)\n",
    "\n",
    "el = Elevator(floor_numbers, floor_types)\n",
    "\n",
    "el.go_to_floor(1)`\n",
    "\n",
    "`Going to Food Court floor!`\n",
    "\n",
    "`el.go_to_floor(-2)`\n",
    "\n",
    "`There is floor number -2 in this building.`\n",
    "\n",
    "`el.ask_which_floor('Offices')`\n",
    "\n",
    "`The floor Offices is the number: 2`\n",
    "\n",
    "`el.ask_which_floor('Swimming Pool')`\n",
    "\n",
    "`There is no Swimming Pool floor in this building.`"
   ]
  },
  {
   "cell_type": "code",
   "execution_count": 85,
   "metadata": {},
   "outputs": [],
   "source": [
    "# Ячейка для кода №17\n",
    "class Elevator:\n",
    "    \n",
    "    def __init__(self, floor_numbers, floor_types):\n",
    "        self._floor_numbers = floor_numbers\n",
    "        self._floor_types = floor_types\n",
    "        self._number_to_type_dict = dict(zip(floor_numbers, floor_types)) \n",
    "        self._type_to_number_dict = dict(zip(floor_types, floor_numbers)) \n",
    "        \n",
    "    def ask_which_floor(self, floor_type):    \n",
    "        if floor_type in self._floor_types:\n",
    "            print('The {} floor is the number: {}.'.format(floor_type, self._type_to_number_dict[floor_type]))\n",
    "        else:\n",
    "            print('There is no {} floor in this building.'.format(floor_type))\n",
    "    \n",
    "    def go_to_floor(self, floor_number):\n",
    "        if floor_number in self._floor_numbers:\n",
    "            print('Going to {} floor!'.format(self._number_to_type_dict[floor_number]))\n",
    "        else:\n",
    "            print('Thereis no {} floor in this building.'.format(floor_number))\n",
    "    "
   ]
  },
  {
   "cell_type": "code",
   "execution_count": 86,
   "metadata": {},
   "outputs": [
    {
     "name": "stdout",
     "output_type": "stream",
     "text": [
      "Going to Food Court floor!\n"
     ]
    }
   ],
   "source": [
    "# Проверьте ячейку для кода 18\n",
    "el = Elevator(floor_numbers, floor_types)\n",
    "el.go_to_floor(1)"
   ]
  },
  {
   "cell_type": "code",
   "execution_count": 87,
   "metadata": {},
   "outputs": [
    {
     "name": "stdout",
     "output_type": "stream",
     "text": [
      "Thereis no -2 floor in this building.\n"
     ]
    }
   ],
   "source": [
    "# Проверьте ячейку для кода 19\n",
    "el.go_to_floor(-2)"
   ]
  },
  {
   "cell_type": "code",
   "execution_count": 88,
   "metadata": {
    "scrolled": true
   },
   "outputs": [
    {
     "name": "stdout",
     "output_type": "stream",
     "text": [
      "The Offices floor is the number: 2.\n"
     ]
    }
   ],
   "source": [
    "# Проверьте ячейку для кода 20\n",
    "el.ask_which_floor('Offices')"
   ]
  },
  {
   "cell_type": "code",
   "execution_count": 89,
   "metadata": {},
   "outputs": [
    {
     "name": "stdout",
     "output_type": "stream",
     "text": [
      "There is no Swimming Pool floor in this building.\n"
     ]
    }
   ],
   "source": [
    "# Проверьте ячейку для кода 21\n",
    "el.ask_which_floor('Swimming Pool')"
   ]
  },
  {
   "cell_type": "markdown",
   "metadata": {},
   "source": [
    "# Отличная работа!"
   ]
  },
  {
   "cell_type": "markdown",
   "metadata": {
    "collapsed": true
   },
   "source": [
    "<font size='0.5'>&copy; 2017 Cisco and/or its affiliates. All rights reserved. This document is Cisco Public.<font>"
   ]
  }
 ],
 "metadata": {
  "anaconda-cloud": {},
  "kernelspec": {
   "display_name": "Python 3",
   "language": "python",
   "name": "python3"
  },
  "language_info": {
   "codemirror_mode": {
    "name": "ipython",
    "version": 3
   },
   "file_extension": ".py",
   "mimetype": "text/x-python",
   "name": "python",
   "nbconvert_exporter": "python",
   "pygments_lexer": "ipython3",
   "version": "3.7.0"
  }
 },
 "nbformat": 4,
 "nbformat_minor": 1
}
