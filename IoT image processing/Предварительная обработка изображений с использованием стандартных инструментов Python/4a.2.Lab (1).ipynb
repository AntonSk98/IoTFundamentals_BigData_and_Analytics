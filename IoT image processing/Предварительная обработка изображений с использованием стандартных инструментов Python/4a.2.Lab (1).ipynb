{
 "cells": [
  {
   "cell_type": "markdown",
   "metadata": {},
   "source": [
    "# Студент (введите свои ФИО и номер группы)"
   ]
  },
  {
   "cell_type": "markdown",
   "metadata": {},
   "source": [
    "# Лабораторная - Предварительная обработка изображений с использованием стандартных инструментов Python"
   ]
  },
  {
   "cell_type": "raw",
   "metadata": {},
   "source": [
    "### Цели\n",
    "<li>**Часть 1. Ввод и анализ изображения**</li>\n",
    "<li>**Часть 2: Преобразование изображения**</li>\n",
    "### История/Cценарий\n",
    "В этой лабораторной работе вы будете использовать стандартные инструменты Python для выполнения типовых процедур обработки изображений - ввод, отображение, обесцвечивание, сглаживание, оконтуривание\n",
    "### Необходимые ресурсы\n",
    "* 1 ПК с доступом в Интернет\n",
    "* Библиотеки Python: cv2, numpy, matplotlib, scimage\n",
    "* Файл данных: coins.png"
   ]
  },
  {
   "cell_type": "raw",
   "metadata": {},
   "source": [
    "#### Шаг 1.  Импорт необходимых библиотек Python.\n",
    "На этом этапе вы  импортируете библиотеки Python, которые потребуются для выполнения практического задания."
   ]
  },
  {
   "cell_type": "code",
   "execution_count": 1,
   "metadata": {},
   "outputs": [
    {
     "name": "stdout",
     "output_type": "stream",
     "text": [
      "Requirement already satisfied: opencv-python in c:\\users\\supermen\\anaconda3\\lib\\site-packages (3.4.4.19)\n",
      "Requirement already satisfied: numpy>=1.11.3 in c:\\users\\supermen\\anaconda3\\lib\\site-packages (from opencv-python) (1.14.0)\n"
     ]
    },
    {
     "name": "stderr",
     "output_type": "stream",
     "text": [
      "You are using pip version 10.0.1, however version 18.1 is available.\n",
      "You should consider upgrading via the 'python -m pip install --upgrade pip' command.\n"
     ]
    }
   ],
   "source": [
    "#Ячейка №1\n",
    "!pip install opencv-python\n",
    "import numpy as np\n",
    "import cv2\n",
    "import matplotlib.pyplot as plt"
   ]
  },
  {
   "cell_type": "markdown",
   "metadata": {},
   "source": [
    "#### Шаг 2.  Создание объекта-изображения.\n",
    "Создайте объект \"image\" (используйте функцию imread библиотеки cv2 для ввода файла coin4.png)Отобразите созданный объект в кодовой ячейке с использованием функций show и imshow библиотеки pyplot "
   ]
  },
  {
   "cell_type": "code",
   "execution_count": 1,
   "metadata": {},
   "outputs": [],
   "source": [
    "#Ячейка №2\n",
    "#...\n",
    "#...\n",
    "#..."
   ]
  },
  {
   "cell_type": "markdown",
   "metadata": {},
   "source": [
    "#### Шаг 3.  Обесцвечивание объекта-изображения.\n",
    "Создайте объект \"gray\" с использованием функции cv2.cvtColor для преобразования цветного изображения в изображение с оттенками серого\n",
    "<li>**cv2.cvtColor (src, code [, dst [, dstCn]]) → dst**</li>\n",
    "\n",
    "    Параметры:\n",
    "\n",
    "        src - входное изображение: 8-разрядное беззнаковое, 16-разрядное без знака (CV_16UC ...) или плавающая точка с одинарной точностью.\n",
    "        dst - выходное изображение того же размера и глубины, что и src.\n",
    "        code - код преобразования цветового пространства (см. описание ниже).\n",
    "        dstCn - количество каналов в целевом изображении; если параметр равен 0, количество каналов автоматически выводится из src и кода.\n",
    "\n",
    "Функция преобразует входное изображение из одного цветового пространства в другое. В случае преобразования в цветовое пространство RGB, порядок каналов должен быть указан явно (RGB или BGR). Обратите внимание, что формат цвета по умолчанию в OpenCV часто упоминается как RGB, но на самом деле это BGR (байты обращаются вспять). Таким образом, первый байт в стандартном (24-битном) цветном изображении будет 8-битным компонентом Blue, второй байт будет зеленым, а третий байт будет красным. Тогда четвертый, пятый и шестой байты будут вторым пикселем (синий, затем зеленый, затем красный) и т.д.\n",
    "\n",
    "Значение code определяет способ преобразования RGB -> GREY (COLOR_BGR2GRAY, COLOR_RGB2GRAY, COLOR_GRAY2BGR, COLOR_GRAY2RGB) \n",
    "Отобразите созданный объект в экранном вьюере  с использованием функций ImageViewer и viewer.show библиотеки skimage "
   ]
  },
  {
   "cell_type": "code",
   "execution_count": 3,
   "metadata": {},
   "outputs": [
    {
     "name": "stderr",
     "output_type": "stream",
     "text": [
      "C:\\Users\\supermen\\Anaconda3\\lib\\site-packages\\skimage\\viewer\\utils\\core.py:10: UserWarning: Recommended matplotlib backend is `Agg` for full skimage.viewer functionality.\n",
      "  warn(\"Recommended matplotlib backend is `Agg` for full \"\n"
     ]
    },
    {
     "data": {
      "text/plain": [
       "[]"
      ]
     },
     "execution_count": 3,
     "metadata": {},
     "output_type": "execute_result"
    }
   ],
   "source": [
    "#Ячейка №3\n",
    "from skimage import data\n",
    "from skimage.viewer import ImageViewer\n",
    "#...\n",
    "#...\n",
    "#..."
   ]
  },
  {
   "cell_type": "markdown",
   "metadata": {},
   "source": [
    "#### Шаг 4.  Сравнение характеристик исходного и обесцвеченного объектов-изображений\n",
    "Используя метод shape определите и сравните размерности объектов image и gray. Объясните чем вызвано изменение размерности\n",
    "## Ответ-"
   ]
  },
  {
   "cell_type": "code",
   "execution_count": 111,
   "metadata": {},
   "outputs": [],
   "source": [
    "#Ячейка №4\n",
    "#..."
   ]
  },
  {
   "cell_type": "markdown",
   "metadata": {},
   "source": [
    "#### Шаг 5.  Сглаживание объекта-изображения.\n",
    "Используя метод GaussianBlur сформируйте объект blur_gray который представляет собой изображение gray обработанное указанным фильтром с ядром 3 х 3 и смещением 0\n",
    "<li>**GaussianBlur(InputArray src, OutputArray dst, Size ksize, double sigmaX, double sigmaY=0, int borderType=BORDER_DEFAULT )**</li>\n",
    "\n",
    "    Параметры:\n",
    "    src — входное изображение; изображение может иметь любое количество каналов, которые обрабатываются независимо друг от друга, но глубина должна быть CV_8U, CV_16U, CV_16S, CV_32F или CV_64F.\n",
    "\n",
    "    dst — выходное изображение того же размера и типа, что и src.\n",
    "\n",
    "    ksize — размер Гауссова ядра. ksize.width и ksize.height могут отличаться, но они оба должны быть положительными и нечетным. \n",
    "\n",
    "    sigmaX — стандартное отклонение Гауссова ядра в направлении X.\n",
    "\n",
    "    sigmaY — стандартное отклонение Гауссова ядра в Y направлении; если sigmaY равен нулю, то устанавливается равным sigmaX, если оба сигмы нули, они вычисляются из ksize.width и ksize.height, соответственно; для тогоб чтобы полностью контролировать результат, независимо от возможных будущих модификаций, рекомендуется указать все ksize, sigmaX и sigmaY.\n",
    "\n",
    "    borderType — пиксельный метод экстраполяции.\n",
    "Отобразите сглаженное изображение в экранном вьюере"
   ]
  },
  {
   "cell_type": "code",
   "execution_count": 4,
   "metadata": {},
   "outputs": [
    {
     "data": {
      "text/plain": [
       "[]"
      ]
     },
     "execution_count": 4,
     "metadata": {},
     "output_type": "execute_result"
    }
   ],
   "source": [
    "#Ячейка №5\n",
    "#...\n",
    "#...\n",
    "#..."
   ]
  },
  {
   "cell_type": "markdown",
   "metadata": {},
   "source": [
    "#### Шаг 6.  Оконтуривание объекта-изображения.\n",
    "Используя функцию Canny библиотеки cv2 сформируйте объект контурного изображения \"edged\" \n",
    "<li>**cv2.Canny (изображение, порог1, порог2 [, edge [, apertureSize [, L2gradient]]]) → контур**</li>\n",
    "\n",
    "    Параметры:\n",
    "\n",
    "        image - 8-битное входное изображение.\n",
    "        edge - контурное изображение; одноканальное 8-битное изображение, которое имеет тот же размер, что и изображение.\n",
    "        threshold1 - первый порог для процедуры гистерезиса.\n",
    "        threshold2 - второй порог для процедуры гистерезиса.\n",
    "        apertureSize - размер апертуры для оператора Sobel ().\n",
    "        L2gradient - флаг, указывающий, следует ли использовать более точную норму \n",
    "\n",
    "Функция находит контур входного изображения, используя алгоритм Canny. Для формирования контурного изображения используются два пороговых значения: minVal и maxVal. Любой фрагмент контура с градиентом интенсивности больше, чем maxVal, становится частью контура, а те, у которых градиент интенсивности ниже minVal, гарантированно не будут принадлежать к контуру, поэтому будут отброшены. Те фрагменты контура, у которых градиент интенсивности  находится между этими двумя порогами, могут быть классифицированы или нет как фрагменты контура в  зависимости от их связности. Если они имеют связь с контуром, то считаются его частью. В противном случае они также будут отброшены. См. Изображение ниже:\n",
    "\n",
    "<img src=\"hysteresis.jpg\">\n",
    "\n",
    "Контур A находится выше maxVal, поэтому считается действительным контуром. Хотя фрагмент контура C имеет интенсивность ниже maxVal, он связан с фрагментом A, поэтому он также считается действительным контуром, и мы получаем эту полную кривую. Но край B, хотя он выше minVal и находится в той же области, что и край C, он не связан ни с каким действительным контуром, и будет отброшен. Поэтому очень важно правильно выбрать minVal и maxVal, чтобы получить достоверный результат.\n",
    "\n",
    "Этот этап также удаляет небольшие пиксельные шумы основываясь на предположении, что ребра являются длинными линиями."
   ]
  },
  {
   "cell_type": "code",
   "execution_count": 5,
   "metadata": {},
   "outputs": [
    {
     "data": {
      "image/png": "[encoded data removed]",
      "text/plain": [
       "<matplotlib.figure.Figure at 0x9faf8cf5f8>"
      ]
     },
     "metadata": {},
     "output_type": "display_data"
    }
   ],
   "source": [
    "#Ячейка №6\n",
    "#...\n",
    "#...\n",
    "#..."
   ]
  },
  {
   "cell_type": "markdown",
   "metadata": {},
   "source": [
    "#### Шаг 7.  Нормализация контурного изображения.\n",
    "Используя функцию getStructuringElement сформируйте вспомогательный структурирующий объект \"kernel\", который будет впоследствии использован для закрытия контуров.\n",
    "<li>**cv2.getStructuringElement (shape, ksize [, anchor]) → retval**</li>\n",
    "\n",
    "    Параметры:\n",
    "\n",
    "        shape -Форма элемента\n",
    "            MORPH_RECT - прямоугольный структурирующий элемент:\n",
    "            MORPH_ELLIPSE - элемент эллиптического структурирования, то есть заполненный эллипс, вписанный в прямоугольник Rect (0, 0, esize.width, 0.esize.height)\n",
    "            MORPH_CROSS - крестообразный структурирующий элемент\n",
    "        ksize - Размер элемента структурирования.\n",
    "        anchor - Якорная позиция внутри элемента. Значение по умолчанию (-1, -1) означает, что якорь находится в центре. Обратите внимание, что только форма крестообразного элемента зависит от положения якоря. В других случаях анкер просто регулирует, насколько изменяется результат морфологической операции.\n",
    "        anchor_x - x-координата якоря\n",
    "        anchor_y - y-координата якоря\n",
    "     Используйте  (7,7) для определения якорной позиции  \n",
    "\n",
    "С помощью функции morphologyEx сформируйте объект \"closed\" путем закрытия сформированных контуров на изображении \"edged\" с использованием структурирующего объекта \"kernel\"   \n",
    "<li>**cv2.morphologyEx (src, op, kernel [, dst [, anchor [, iterations [, borderType [, borderValue]]]]]] → dst**</li>\n",
    "\n",
    "        src - Исходное изображение. \n",
    "        dst - Изображение назначения того же размера и типа, что и src.\n",
    "        Ядро - элемент структурирования. Его можно создать с помощью метода getStructuringElement ().\n",
    "        anchor - Якорная позиция с ядром. Отрицательные значения означают, что якорь находится в центре ядра.\n",
    "        \n",
    "        op -Тип морфологической операции, которая может быть одной из следующих:\n",
    "            MORPH_OPEN - операция открытия\n",
    "            MORPH_CLOSE - операция закрытия\n",
    "            MORPH_GRADIENT - морфологический градиент\n"
   ]
  },
  {
   "cell_type": "code",
   "execution_count": 7,
   "metadata": {},
   "outputs": [
    {
     "data": {
      "image/png": "[encoded data removed]",
      "text/plain": [
       "<matplotlib.figure.Figure at 0x9fb2a2a390>"
      ]
     },
     "metadata": {},
     "output_type": "display_data"
    }
   ],
   "source": [
    "#Ячейка №7\n",
    "#...\n",
    "#...\n",
    "#..."
   ]
  },
  {
   "cell_type": "markdown",
   "metadata": {},
   "source": [
    "#### Шаг 8.  Поиск внешних контуров объекта-изображения.\n",
    "Выполните поиск внешних контуров на объекте closed с использованием функции findContours и сформируйте объекты contours и hierarchy, которые содержат найденные контуры и их структуру, соответственно.\n",
    "\n",
    "<li>**findContours( кадр, режим_группировки, метод_упаковки [, контуры[, иерархия[, сдвиг]]])**</li>\n",
    "\n",
    "    кадр — должным образом подготовленная для анализа картинка. Это должно быть 8-битное изображение. Поиск контуров использует для работы монохромное изображение, так что все пиксели картинки с ненулевым цветом будут интерпретироваться как 1, а все нулевые останутся нулями. \n",
    "\n",
    "    режим_группировки — один из четырех режимов группировки найденных контуров:\n",
    "\n",
    "    CV_RETR_LIST — выдаёт все контуры без группировки;\n",
    "    CV_RETR_EXTERNAL — выдаёт только крайние внешние контуры. Например, если в кадре будет пончик, то функция вернет его внешнюю границу без дырки.\n",
    "    CV_RETR_CCOMP — группирует контуры в двухуровневую иерархию. На верхнем уровне — внешние контуры объекта. На втором уровне — контуры отверстий, если таковые имеются. Все остальные контуры попадают на верхний уровень.\n",
    "    CV_RETR_TREE — группирует контуры в многоуровневую иерархию.\n",
    "\n",
    "    метод_упаковки — один из трёх методов упаковки контуров:\n",
    "\n",
    "    CV_CHAIN_APPROX_NONE — упаковка отсутствует и все контуры хранятся в виде отрезков, состоящих из двух пикселей.\n",
    "    CV_CHAIN_APPROX_SIMPLE — склеивает все горизонтальные, вертикальные и диагональные контуры.\n",
    "    CV_CHAIN_APPROX_TC89_L1,CV_CHAIN_APPROX_TC89_KCOS — применяет к контурам метод упаковки (аппроксимации) Teh-Chin.\n",
    "\n",
    "    контуры — список всех найденных контуров, представленных в виде векторов;\n",
    "\n",
    "    иерархия — информация о топологии контуров. Каждый элемент иерархии представляет собой сборку из четырех индексов, которая соответствует контуру[i]:\n",
    "\n",
    "    иерархия[i][0] — индекс следующего контура на текущем слое;\n",
    "    иерархия[i][1] — индекс предыдущего контура на текущем слое:\n",
    "    иерархия[i][2] — индекс первого контура на вложенном слое;\n",
    "    иерархия[i][3] — индекс родительского контура.\n",
    "\n",
    "    сдвиг — величина смещения точек контура."
   ]
  },
  {
   "cell_type": "code",
   "execution_count": 10,
   "metadata": {},
   "outputs": [],
   "source": [
    "#Ячейка №8\n",
    "_, contours, hierarchy = #...."
   ]
  },
  {
   "cell_type": "markdown",
   "metadata": {},
   "source": [
    "#### Шаг 9.  Отобразите найденные  контуры на объекте-изображении.\n",
    "Выполните отрисовку внешних контуров на объекте image с использованием функции drawContours.\n",
    "<li>**cv2.drawContours (image, contour, contourIdx, цвет [, толщина [, lineType [, hierarchy [, maxLevel [, offset]]]]]) → изображение**</li>\n",
    "\n",
    "    Параметры:\n",
    "\n",
    "        image - Изображение цели.\n",
    "        contour - массив контуров. Каждый контур сохраняется в виде  вектора.\n",
    "        contourIdx - Параметр, указывающий на отображаемый контур. Если он отрицательный, отображаются все контуры.\n",
    "        цвет - цвет контуров.\n",
    "        толщина - Толщина линий,которыми нарисованы контуры. \n",
    "        lineType - тип линии.(Используйте cv2.LINE_AA)\n",
    "        hierarchy Дополнительная информация об иерархии. Это необходимо, только если вы хотите нарисовать только некоторые из контуров (см. MaxLevel).\n",
    "        maxLevel - Максимальный уровень для контуров. Если он равен 0, нарисован только указанный контур. Если это 1, функция рисует контур (ы) и все вложенные контуры. Если это 2, функция рисует контуры, все вложенные контуры, все вложенные вложенные контуры и т. Д. Этот параметр учитывается только при наличии иерархии.\n",
    "        offset - Дополнительный параметр смещения контура. \n",
    " Отобразите полученный результат в экранном вьюере"
   ]
  },
  {
   "cell_type": "code",
   "execution_count": 14,
   "metadata": {},
   "outputs": [
    {
     "data": {
      "text/plain": [
       "[]"
      ]
     },
     "execution_count": 14,
     "metadata": {},
     "output_type": "execute_result"
    }
   ],
   "source": [
    "#Ячейка №9\n",
    "#...\n",
    "#...\n",
    "#..."
   ]
  },
  {
   "cell_type": "markdown",
   "metadata": {},
   "source": [
    "#### Шаг 10.  Напишите программу, которая отображает контур ТОЛЬКО ДЛЯ САМОЙ БОЛЬШОЙ ПО РАЗМЕРУ МОНЕТЫ объекта изображения image."
   ]
  },
  {
   "cell_type": "code",
   "execution_count": null,
   "metadata": {},
   "outputs": [],
   "source": [
    "#Ячейка №10\n",
    "#..."
   ]
  }
 ],
 "metadata": {
  "kernelspec": {
   "display_name": "Python 3",
   "language": "python",
   "name": "python3"
  },
  "language_info": {
   "codemirror_mode": {
    "name": "ipython",
    "version": 3
   },
   "file_extension": ".py",
   "mimetype": "text/x-python",
   "name": "python",
   "nbconvert_exporter": "python",
   "pygments_lexer": "ipython3",
   "version": "3.7.0"
  }
 },
 "nbformat": 4,
 "nbformat_minor": 2
}
