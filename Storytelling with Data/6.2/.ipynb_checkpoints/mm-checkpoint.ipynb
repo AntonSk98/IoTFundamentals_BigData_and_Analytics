{
 "cells": [
  {
   "cell_type": "markdown",
   "metadata": {},
   "source": [
    "# Студент (введите свои ФИО и номер группы)"
   ]
  },
  {
   "cell_type": "markdown",
   "metadata": {},
   "source": [
    "# Рабочие материалы для подготовки к практическому занятию \"Перспективные средства предварительной обработки данных IoT\""
   ]
  },
  {
   "cell_type": "markdown",
   "metadata": {},
   "source": [
    "### Цель\n",
    "<li>Познакомиться с интегрированной средой разработки однородной вычислительной среды Минитера-2</li>"
   ]
  },
  {
   "cell_type": "code",
   "execution_count": 1,
   "metadata": {},
   "outputs": [],
   "source": [
    "import numpy as np\n",
    "import matplotlib.pyplot as plt\n",
    "import math\n",
    "import binascii"
   ]
  },
  {
   "cell_type": "markdown",
   "metadata": {},
   "source": [
    "## Умножение матриц"
   ]
  },
  {
   "cell_type": "markdown",
   "metadata": {},
   "source": [
    "В данной работе вам предстоит произвести отладку проекта ФОП умножения квадратных матриц 8х8 в базисе ОВС Минитера-2 с помощью интегрированной среды разработки."
   ]
  },
  {
   "cell_type": "markdown",
   "metadata": {},
   "source": [
    "Генерируем исходные матрицы."
   ]
  },
  {
   "cell_type": "code",
   "execution_count": 2,
   "metadata": {},
   "outputs": [],
   "source": [
    "a = np.zeros((8, 8))\n",
    "b = np.zeros((8, 8))\n",
    "for i in range(8):\n",
    "    for j in range(8):\n",
    "        a[i,j] = np.random.randint(0,4)\n",
    "        b[i,j] = np.random.randint(0,4)"
   ]
  },
  {
   "cell_type": "code",
   "execution_count": 3,
   "metadata": {},
   "outputs": [
    {
     "data": {
      "text/plain": [
       "array([[1., 2., 2., 2., 3., 0., 3., 3.],\n",
       "       [3., 1., 3., 1., 3., 1., 1., 1.],\n",
       "       [1., 2., 3., 0., 2., 3., 2., 0.],\n",
       "       [2., 1., 0., 1., 3., 0., 1., 3.],\n",
       "       [0., 3., 3., 2., 2., 3., 3., 0.],\n",
       "       [0., 0., 3., 1., 3., 0., 1., 3.],\n",
       "       [1., 3., 0., 0., 2., 1., 3., 3.],\n",
       "       [0., 0., 3., 3., 0., 3., 0., 3.]])"
      ]
     },
     "execution_count": 3,
     "metadata": {},
     "output_type": "execute_result"
    }
   ],
   "source": [
    "a.view()"
   ]
  },
  {
   "cell_type": "code",
   "execution_count": 4,
   "metadata": {},
   "outputs": [
    {
     "data": {
      "text/plain": [
       "array([[2., 0., 1., 3., 3., 2., 3., 3.],\n",
       "       [1., 3., 0., 1., 0., 2., 2., 0.],\n",
       "       [1., 0., 1., 2., 2., 0., 3., 0.],\n",
       "       [0., 3., 2., 3., 0., 0., 0., 0.],\n",
       "       [2., 2., 1., 1., 1., 2., 1., 2.],\n",
       "       [0., 3., 1., 0., 1., 2., 2., 3.],\n",
       "       [2., 1., 2., 3., 1., 3., 0., 2.],\n",
       "       [1., 0., 2., 1., 2., 2., 1., 2.]])"
      ]
     },
     "execution_count": 4,
     "metadata": {},
     "output_type": "execute_result"
    }
   ],
   "source": [
    "b.view()"
   ]
  },
  {
   "cell_type": "markdown",
   "metadata": {},
   "source": [
    "Матрица произведения"
   ]
  },
  {
   "cell_type": "code",
   "execution_count": 5,
   "metadata": {},
   "outputs": [
    {
     "data": {
      "text/plain": [
       "array([[12., 27., 31., 24., 35., 24., 31., 39.],\n",
       "       [14., 12., 17.,  8., 25.,  5., 15., 21.],\n",
       "       [ 9., 21., 11.,  8., 21., 12., 22., 18.],\n",
       "       [17., 10., 15.,  6., 22.,  9., 10., 12.],\n",
       "       [12., 15., 28., 17., 27., 15., 19., 26.],\n",
       "       [12., 14., 30., 16., 23., 20., 16., 24.],\n",
       "       [13., 15., 31., 19., 33., 16., 20., 31.],\n",
       "       [ 6., 16., 26., 15., 22., 19., 19., 21.]])"
      ]
     },
     "execution_count": 5,
     "metadata": {},
     "output_type": "execute_result"
    }
   ],
   "source": [
    "c = np.matmul(b, a)\n",
    "c.view()"
   ]
  },
  {
   "cell_type": "code",
   "execution_count": 6,
   "metadata": {
    "scrolled": true
   },
   "outputs": [
    {
     "data": {
      "image/png": "[encoded data removed]",
      "text/plain": [
       "<Figure size 432x288 with 3 Axes>"
      ]
     },
     "metadata": {
      "needs_background": "light"
     },
     "output_type": "display_data"
    }
   ],
   "source": [
    "plt.subplot(131)\n",
    "plt.imshow(a, cmap='gray', vmin=0)\n",
    "plt.subplot(132)\n",
    "plt.imshow(b, cmap='gray', vmin=0)\n",
    "plt.subplot(133)\n",
    "plt.imshow(c, cmap='gray', vmin=0)\n",
    "plt.show()"
   ]
  },
  {
   "cell_type": "markdown",
   "metadata": {},
   "source": [
    "Создаем файлы входных данных для IDE"
   ]
  },
  {
   "cell_type": "code",
   "execution_count": 7,
   "metadata": {},
   "outputs": [],
   "source": [
    "N = 8\n",
    "R = 5\n",
    "sb = True\n",
    "if sb:\n",
    "    R += 1\n",
    "for x in range(N):\n",
    "    f = open(\"a{:d}\".format(x), \"wb\")\n",
    "    off = 2*x\n",
    "    sh = off%8\n",
    "    hs = \"\"\n",
    "    for i in range(math.floor(off/8)):\n",
    "        hs += \"00\"\n",
    "    for i in range(math.ceil((N*R+sh)/8)):\n",
    "        n = math.floor((i*8-sh)/R)\n",
    "        w = 0\n",
    "        for j in range(math.ceil(8/R)):\n",
    "            if (n+j+1>N)|(n+j<0):\n",
    "                t = 0\n",
    "            else:\n",
    "                t = int(a[n+j,x])\n",
    "                if sb:\n",
    "                    t = 1|(np.left_shift(t,1))\n",
    "            t &= 2**R-1\n",
    "            w |= np.left_shift(t,R*j)\n",
    "        w = 255&np.right_shift(w,(i*8+R-sh)%R)\n",
    "        hs += \"{:02X}\".format(w)\n",
    "    f.write(binascii.a2b_hex(hs))\n",
    "    f.close()"
   ]
  },
  {
   "cell_type": "code",
   "execution_count": 122,
   "metadata": {},
   "outputs": [],
   "source": [
    "N = 8\n",
    "R = 5\n",
    "sb = True\n",
    "if sb:\n",
    "    R += 1\n",
    "for x in range(N):\n",
    "    f = open(\"b{:d}\".format(x), \"wb\")\n",
    "    off = 2*x\n",
    "    sh = off%8\n",
    "    hs = \"\"\n",
    "    for i in range(math.floor(off/8)):\n",
    "        hs += \"00\"\n",
    "    for i in range(math.ceil((N*R+sh)/8)):\n",
    "        n = math.floor((i*8-sh)/R)\n",
    "        w = 0\n",
    "        for j in range(math.ceil(8/R)):\n",
    "            if (n+j+1>N)|(n+j<0):\n",
    "                t = 0\n",
    "            else:\n",
    "                t = int(b[x,n+j])\n",
    "                if sb:\n",
    "                    t = 1|(np.left_shift(t,1))\n",
    "            t &= 2**R-1\n",
    "            w |= np.left_shift(t,R*j)\n",
    "        w = 255&np.right_shift(w,(i*8+R-sh)%R)\n",
    "        hs += \"{:02X}\".format(w)\n",
    "    f.write(binascii.a2b_hex(hs))\n",
    "    f.close()"
   ]
  },
  {
   "cell_type": "markdown",
   "metadata": {},
   "source": [
    "Загрузите <a href=\"https://www.ruffe.net/mp/files/MTlab.zip\">архив с IDE</a> и распакуйте его в корневой каталог диска.<br/>\n",
    "Скопируйте подготовленные файлы в каталог X:\\MTlab\\mm\\<br/>\n",
    "Запустите IDE \"minitera_081203.exe\"<br/>\n",
    "Откройте файл макроса mm\\8.cca<br/>\n",
    "Откройте файл сессии отладки mm\\8.ccd<br/>\n",
    "Запустите эмуляцию и сравните полученную матрицу с эталонной"
   ]
  },
  {
   "cell_type": "markdown",
   "metadata": {},
   "source": [
    "<a href=\"https://www.ruffe.net/mp/handbook\">Справочник команд ПЭ</a><br/>\n",
    "<a href=\"https://www.ruffe.net/mp/qstart\">Краткое руководство</a><br/>\n",
    "<a href=\"https://www.ruffe.net/mp/files/mtdoc.7z\">Документы по Минитере</a>"
   ]
  }
 ],
 "metadata": {
  "kernelspec": {
   "display_name": "Python 3",
   "language": "python",
   "name": "python3"
  },
  "language_info": {
   "codemirror_mode": {
    "name": "ipython",
    "version": 3
   },
   "file_extension": ".py",
   "mimetype": "text/x-python",
   "name": "python",
   "nbconvert_exporter": "python",
   "pygments_lexer": "ipython3",
   "version": "3.7.0"
  }
 },
 "nbformat": 4,
 "nbformat_minor": 2
}
