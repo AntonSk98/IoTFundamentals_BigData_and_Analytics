{
 "cells": [
  {
   "cell_type": "markdown",
   "metadata": {},
   "source": [
    "![Title](Images/cisco.png)"
   ]
  },
  {
   "cell_type": "markdown",
   "metadata": {},
   "source": [
    "#  Лабораторная работа - Визуализация данных скорости Интернета"
   ]
  },
  {
   "cell_type": "markdown",
   "metadata": {},
   "source": [
    "### Цели\n",
    "<li>**Часть 1: Очистка и анализ данных **</li>\n",
    "<li>**Часть 2: Визуализация данных **</li>\n",
    "### История/Cценарий\n",
    "В этой лабораторной работе вы узнаете, как использовать библиотеку `pandas` для выполнения предварительных шагов, которые необходимы, прежде чем приступать к анализу данных, включая удаление отсутствующих значений, изменение формата данных и предварительный статистический анализ. \n",
    "После очистки данных вы будете использовать `matplotlib` для исследования и визуализации данных.\n",
    "\n",
    "### Необходимые ресурсы\n",
    "* 1 ПК с доступом в Интернет\n",
    "* Raspberry Pi версии 2 или выше\n",
    "* Библиотеки Python: datetime, csv, subprocess, pandas, numpy\n",
    "* Файл данных: data_long.csv"
   ]
  },
  {
   "cell_type": "markdown",
   "metadata": {},
   "source": [
    "## Часть 1: Очистка и анализ данных\n",
    "\n",
    "Иногда говорят, что специалисты по машинному обучению тратят 80% времени на очистку данных. Хотя это утверждение, возможно, является преувеличением, верно то, что очистка данных является фундаментальной задачей, необходимой для обеспечения успеха проекта машинного обучения. Как и в многих других областях здесь применяется закон 'мусор на входе - мусор на выходе'. Просто невозможно провести осмысленный анализ данных по 'грязным' данным. \n",
    "\n",
    "#### Шаг 1: Очистка данных.\n",
    "\n",
    "Загрузите данные из файла `rpi_data_compact.csv`. Этот файл содержит измерения скорости интернета, полученные во время лабораторной работы Internet_Speed_Data_Acquisition. В частности, основное внимание уделяется трем величинам: времени пинга (мс), скорости загрузки (Мбит / с) и скорости выгрузки (Мбит / с). "
   ]
  },
  {
   "cell_type": "markdown",
   "metadata": {},
   "source": [
    "###### a) Прочитайте данные из  `rpi_data_compact.csv`."
   ]
  },
  {
   "cell_type": "markdown",
   "metadata": {},
   "source": [
    "Прочитайте файл `./Data/rpi_data_compact.csv` в кадр данных Pandas под названием `df_compact` и просмотрите первые три строки этого кадра данных, используя `df.head`. "
   ]
  },
  {
   "cell_type": "code",
   "execution_count": null,
   "metadata": {
    "collapsed": true
   },
   "outputs": [],
   "source": [
    "# Ячейка для кода № 1\n",
    "import pandas as pd\n",
    "import numpy as np"
   ]
  },
  {
   "cell_type": "code",
   "execution_count": null,
   "metadata": {
    "collapsed": true
   },
   "outputs": [],
   "source": [
    "# Ячейка для кода № 2\n",
    "# Импортируйте данные из файла csv и визуализируйте первые строки\n",
    "#df_compact = \n",
    "#df_compact.?()"
   ]
  },
  {
   "cell_type": "markdown",
   "metadata": {},
   "source": [
    "###### b) Удалите ненужные столбцы.\n",
    "\n",
    "Как вы могли заметить, в кадре данных `df_compact` есть дополнительный столбец. Используйте команду `df.drop`, чтобы удалить этот столбец. Если Вам нужна помощь обратитесь к лабораторной работе Internet_Speed_Data_Acquisition."
   ]
  },
  {
   "cell_type": "code",
   "execution_count": null,
   "metadata": {
    "collapsed": true
   },
   "outputs": [],
   "source": [
    "# Ячейка для кода № 3\n",
    "# Удалите ненужные столбцы\n"
   ]
  },
  {
   "cell_type": "markdown",
   "metadata": {},
   "source": [
    "###### c) Удалите `NaNs`.\n",
    "\n",
    "Общей проблемой, которая влияет на качество данных, является наличие значений `NaN`. Это может привести к тому, что функции анализа данных резко прекратят расчет, выдадут ошибку или создадут неверные результаты. Как правило, значения NaN представляют собой часть информации, которая должна содержаться в наборе данных, но отсутствует в нем. \n",
    "В этом примере значения `NaN` в `df_compact` могут представлять собой измерения, в которых произошел разрыв соединения с Интернетом, либо, когда сервер `Speedtest.net` не смог ответить на запросы от Raspberry Pi. Код ниже подсичтывает количество значений `NaN` в кадре данных. "
   ]
  },
  {
   "cell_type": "markdown",
   "metadata": {},
   "source": [
    "Сначала перейдите на страницу http://pandas.pydata.org/pandas-docs/version/0.14.1/index.html и выполните поиск `isnull` в окне поиска. ![Image](Images/pandas_screenshot.png)"
   ]
  },
  {
   "cell_type": "markdown",
   "metadata": {},
   "source": [
    "Документация функции `isnull` немного сложна для понимания. К счастью, интерактивный интерфейс Jupyter позволяет нам вызвать эту функцию и быстро изучить ее вывод."
   ]
  },
  {
   "cell_type": "code",
   "execution_count": null,
   "metadata": {
    "collapsed": true
   },
   "outputs": [],
   "source": [
    "# Ячейка для кода № 4\n",
    "NaNs_in_df = df_compact.isnull()\n",
    "print(type(NaNs_in_df))\n",
    "NaNs_in_df.head()\n"
   ]
  },
  {
   "cell_type": "markdown",
   "metadata": {},
   "source": [
    "Результатом функции `isnull` является новый кадр данных, который содержит `True` или `False`, если соответствующий элемент в `DataFrame` имеет значение `NaN` или нет. Использование функции `sum` на этом `DataFrame` автоматически преобразует значения `True` в 1s и `False` в 0s.  "
   ]
  },
  {
   "cell_type": "code",
   "execution_count": null,
   "metadata": {
    "collapsed": true
   },
   "outputs": [],
   "source": [
    "# Ячейка для кода № 5\n",
    "NaNs_per_column = NaNs_in_df.sum()\n",
    "print(type(NaNs_per_column))\n",
    "NaNs_per_column.head()"
   ]
  },
  {
   "cell_type": "markdown",
   "metadata": {},
   "source": [
    "Получаемый `NaN_per_column` представляет собой объект `Series` библиотеки `pandas`, который можно рассматривать как один столбец в`DataFrame` (`DataFrame` на самом деле является типом `Series`, где ключи являются именами столбцов). Объект `Series` содержит почти все функциональные возможности `DataFrame`. \n",
    "Используйте функцию `sum` на `Nan_per_column Series` и выведите результат."
   ]
  },
  {
   "cell_type": "code",
   "execution_count": null,
   "metadata": {
    "collapsed": true
   },
   "outputs": [],
   "source": [
    "# Ячейка для кода № 6\n",
    "NaNs_total = NaNs_per_column.sum()\n",
    "NaNs_total"
   ]
  },
  {
   "cell_type": "markdown",
   "metadata": {},
   "source": [
    "Можно объединить все эти команды в одну строку следующим образом:"
   ]
  },
  {
   "cell_type": "code",
   "execution_count": null,
   "metadata": {
    "collapsed": true
   },
   "outputs": [],
   "source": [
    "# Ячейка для кода № 7\n",
    "df_compact.isnull().sum().sum()"
   ]
  },
  {
   "cell_type": "markdown",
   "metadata": {},
   "source": [
    "Вычислите количество отсутствующих значений в процентах от всех элементов в кадре данных (округлите результат до второго десятичного знака, используя `numpy.round` https://docs.scipy.org/doc/numpy/reference/generated/numpy.round_.html) "
   ]
  },
  {
   "cell_type": "markdown",
   "metadata": {},
   "source": [
    "Используйте функцию `dropna` библиотеки `pandas` для удаления значений `NaN` из `df_compact`."
   ]
  },
  {
   "cell_type": "code",
   "execution_count": null,
   "metadata": {
    "collapsed": true
   },
   "outputs": [],
   "source": [
    "# Ячейка для кода № 8\n",
    "NaNs_pct = np.round(df_compact.isnull().sum().sum()/float(len(df_compact)*len(df_compact.columns))*100, decimals = 4)\n",
    "print('The DataFrame contains : {} NaNs, equal to {} of the measurements'.format(NaNs_total, NaNs_pct))"
   ]
  },
  {
   "cell_type": "markdown",
   "metadata": {},
   "source": [
    "Функция `dropna`, если вызывается только с параметрами по умолчанию, удаляет все строки в `DataFrame`, если какое-либо из значений имеет значение `NaN'. "
   ]
  },
  {
   "cell_type": "code",
   "execution_count": null,
   "metadata": {
    "collapsed": true
   },
   "outputs": [],
   "source": [
    "# Ячейка для кода № 9\n",
    "# Удаление значений NaN\n",
    "df_compact_clean = df_compact.dropna()"
   ]
  },
  {
   "cell_type": "markdown",
   "metadata": {},
   "source": [
    "Сравните длину значений до и после использования `dropna`. Вы заметили что-то странное? Почему?"
   ]
  },
  {
   "cell_type": "code",
   "execution_count": null,
   "metadata": {
    "collapsed": true
   },
   "outputs": [],
   "source": [
    "# Ячейка для кода № 10\n"
   ]
  },
  {
   "cell_type": "markdown",
   "metadata": {},
   "source": [
    "###### d) Измените формат значений.\n",
    "\n",
    "Столбцы под значения времени пинга, скорости загрузки и скорости выгрузки в кадре данных `df_compact` содержат числовые значения. Поэтому разумно ожидать, что все они будут использовать один тип данных, например, `float64`. Это, однако, не всегда верно и мы может это проверить с помощью `dtypes`: "
   ]
  },
  {
   "cell_type": "code",
   "execution_count": null,
   "metadata": {
    "collapsed": true
   },
   "outputs": [],
   "source": [
    "# Ячейка для кода № 11\n",
    "# Тип значений Ping и Download не float\n",
    "df_compact.dtypes"
   ]
  },
  {
   "cell_type": "markdown",
   "metadata": {},
   "source": [
    "Используйте функцию Python `float()` для преобразования строкового значения в формат `float`."
   ]
  },
  {
   "cell_type": "code",
   "execution_count": null,
   "metadata": {
    "collapsed": true
   },
   "outputs": [],
   "source": [
    "# Ячейка для кода № 12\n",
    "str_val = '10.56'\n",
    "float_val = float(str_val)\n",
    "print(str_val, type(str_val), float_val, type(float_val))"
   ]
  },
  {
   "cell_type": "markdown",
   "metadata": {},
   "source": [
    "Теперь преобразуем все значения столбцов 'Ping (ms)' и 'Download (Mbit/s)' в float. Подсказка: используйте `apply` и `lambda`. За помощью обратитесь к лабораторной работе Internet_Speed_Data_Acquisition."
   ]
  },
  {
   "cell_type": "code",
   "execution_count": null,
   "metadata": {
    "collapsed": true
   },
   "outputs": [],
   "source": [
    "# Ячейка для кода № 14\n",
    "# это отключает предупреждение блокнота, которое не имеет отношения к нашему случаю\n",
    "pd.options.mode.chained_assignment = None\n",
    "\n",
    "# Преобразование Ping и Download в float\n",
    "#df_compact_clean['Ping (ms)_float'] = ...\n",
    "#df_compact_clean['Download (Mbit/s)_float'] = ...\n",
    "\n",
    "#Убедитесь, что типы были успешно преобразованы\n",
    "# ..."
   ]
  },
  {
   "cell_type": "markdown",
   "metadata": {},
   "source": [
    "Теперь удалите исходные столбцы `Ping (ms)` и `Download (Mbit/s)` и переименуйте новые `Ping (ms)_float` и `Download (Mbit/s)_float` в `Ping (ms)` и `Download (Mbit/s)`. Используйте `df.drop` и `df.rename`, как в лабораторной работе Internet_Speed_Data_Acquisition."
   ]
  },
  {
   "cell_type": "code",
   "execution_count": null,
   "metadata": {
    "collapsed": true
   },
   "outputs": [],
   "source": [
    "# Ячейка для кода № 15\n",
    "# Удалите исходные столбцы 'Ping (ms)' и 'Download (Mbit/s)'\n",
    "\n",
    "\n",
    "# Переименуйте новый 'Ping (ms) float' и 'Download (Mbit/s) float ' в Ping (ms)' и 'Download (Mbit/s)\n"
   ]
  },
  {
   "cell_type": "code",
   "execution_count": null,
   "metadata": {
    "collapsed": true
   },
   "outputs": [],
   "source": [
    "# Ячейка для кода № 16\n",
    "df_compact_clean.head()"
   ]
  },
  {
   "cell_type": "markdown",
   "metadata": {},
   "source": [
    "Прежде чем сохранять `DataFrame`, имеет смысл переместить столбец `Upload` в конец. Это может быть достигнуто с помощью функции `reindex`."
   ]
  },
  {
   "cell_type": "code",
   "execution_count": null,
   "metadata": {
    "collapsed": true
   },
   "outputs": [],
   "source": [
    "# Ячейка для кода № 17\n",
    "df_compact_clean = df_compact_clean.reindex(columns = ['Date', 'Time', 'Ping (ms)','Download (Mbit/s)','Upload (Mbit/s)']);\n",
    "df_compact_clean.head()"
   ]
  },
  {
   "cell_type": "markdown",
   "metadata": {},
   "source": [
    "Теперь, когда набор данных окончательно чист, сохраните его в файле csv и переименуйте его."
   ]
  },
  {
   "cell_type": "code",
   "execution_count": null,
   "metadata": {
    "collapsed": true
   },
   "outputs": [],
   "source": [
    "# Ячейка для кода № 18\n",
    "# Сохраним новый очищенный кадр данных в csv\n",
    "df_compact_clean.to_csv('./rpi_data_processed.csv', index=False)\n",
    "\n",
    "df_clean = df_compact_clean"
   ]
  },
  {
   "cell_type": "markdown",
   "metadata": {},
   "source": [
    "#### Шаг 2. Базовая статистика.\n",
    "\n",
    "Новые данные требуют не только очистки, но и более тщательного исследования. Когда вы начинаете проект анализа данных, стоит инвестировать усилия в изучение и вычисление некоторых основных статистических свойств данных. Это влечет за собой расчёт среднего значения, среднеквадратических отклонений и корреляций. "
   ]
  },
  {
   "cell_type": "markdown",
   "metadata": {},
   "source": [
    "######  a) Вычислить среднее значение и среднеквадратическое отклонение с помощью Pandas.\n",
    "\n",
    "Среднее значение и среднеквадратическое отклонение всех столбцов в `DataFrame` можно вычислить с помощью `mean()` и `std()` .\n",
    "Найдите их в документации библиотеки `pandas` и примените их к `df_clean DataFrame`  \n",
    "\n",
    "Выведите результат как `количество = среднее значение ± среднеквадратическое отклонение`. Не забудьте включить единицы измерения, связанные с каждой величиной. "
   ]
  },
  {
   "cell_type": "code",
   "execution_count": null,
   "metadata": {
    "collapsed": true
   },
   "outputs": [],
   "source": [
    "# Ячейка для кода № 19\n",
    "# Вычислить среднее значение и среднеквадратическое отклонение для всех столбцов df_compact\n",
    "# РЕШЕНИЕ:\n",
    "# means = ...\n",
    "# stands = ...\n",
    "\n",
    "# Поместите среднее значение и среднеквадратическое отклонение для каждого столбца в кортеж\n",
    "stats_ping = (means['Ping (ms)'], stands['Ping (ms)'])\n",
    "stats_download = (means['Download (Mbit/s)'], stands['Download (Mbit/s)'])\n",
    "stats_upload = (means['Upload (Mbit/s)'], stands['Upload (Mbit/s)'])\n",
    "\n",
    "# Выведите на экран среднее значение ± среднеквадратическое отклонение, включая единицы измерения\n",
    "print('Среднее время пинга: {} ± {} ms'.format(stats_ping[0],stats_ping[1]))\n",
    "print('Средняя скорость загрузки: {} ± {} Mbit/s'.format(*stats_download))\n",
    "print('Средняя скорость выгрузки: {} ± {} Mbit/s'.format(*stats_upload))"
   ]
  },
  {
   "cell_type": "markdown",
   "metadata": {},
   "source": [
    "###### b) Рассчитайте минимальное и максимальное отклонение с помощью Pandas.\n",
    "\n",
    "Найдите в документации библиотеки `pandas` информацию о том, как вычислить минимальные и максимальные значения для всех столбцов в `DataFrame`."
   ]
  },
  {
   "cell_type": "code",
   "execution_count": null,
   "metadata": {
    "collapsed": true
   },
   "outputs": [],
   "source": [
    "# Ячейка для кода № 23\n",
    "# Вычислите max и min для всех столбцов df_compact\n",
    "mins = df_clean.min()\n",
    "maxs = df_clean.max()\n",
    "\n",
    "# Укажите среднее значение и среднеквадратическое отклонение для каждого столбца в кортеже\n",
    "mima_ping = (mins['Ping (ms)'], maxs['Ping (ms)'])\n",
    "mima_download = (mins['Download (Mbit/s)'], maxs['Download (Mbit/s)'])\n",
    "mima_upload = (mins['Upload (Mbit/s)'], maxs['Upload (Mbit/s)'])\n",
    "\n",
    "# Выведите на экран средние и максимальные значения, включая единицы измерения\n",
    "print('Минимальное время пинга: {} ms. Максимальное время пинга: {} ms'.format(*mima_ping))\n",
    "print('Минимальная скорость загрузки: {} Mbit/s. Максимальная скорость загрузки: {} Mbit/s'.format(*mima_download))\n",
    "print('Минимальная скорость выгрузки: {} Mbit/s. Максимальная скорость выгрузки: {} Mbit/s'.format(*mima_upload))"
   ]
  },
  {
   "cell_type": "markdown",
   "metadata": {},
   "source": [
    "###### c) Используйте функцию  `describe`  библиотеки `pandas`.\n",
    "Выполните следующую строку кода. Обратите внимание, сколько времени библиотека `pandas` может сэкономить Вам даже с одной строкой кода!   "
   ]
  },
  {
   "cell_type": "code",
   "execution_count": null,
   "metadata": {
    "collapsed": true
   },
   "outputs": [],
   "source": [
    "# Ячейка для кода № 24\n",
    "df_clean.describe()"
   ]
  },
  {
   "cell_type": "markdown",
   "metadata": {},
   "source": [
    "###### d) Используйте `argmin`, `argmax` и `iloc`."
   ]
  },
  {
   "cell_type": "markdown",
   "metadata": {},
   "source": [
    "Предположим, вы хотели бы написать скрипт, который автоматически отправляет отчеты о статусе интернет-соединения вашему Интернет-провайдеру. Отчеты должны включать дату и время, соответствующие минимальной скорости интернета. Временная информация позволит Интернет-провайдеру точно идентифицировать причину медленного соединения, которое вы наблюдаете. \n",
    "\n",
    "Используя функции `argmin` и `argmax` библиотеки `pandas`, найдите значения даты и времени, соответствующие самому большому и малому времени пинга, самой низкой и самой высокой скорости загрузки, а также самой низкой и самой высокой скорости выгрузки."
   ]
  },
  {
   "cell_type": "code",
   "execution_count": null,
   "metadata": {
    "collapsed": true
   },
   "outputs": [],
   "source": [
    "# Ячейка для кода № 25\n",
    "# Найдите минимальное и максимальное время пинга\n",
    "argmin_ping = df_clean['Ping (ms)'].argmin()\n",
    "argmax_ping = df_clean['Ping (ms)'].argmax()\n",
    "\n",
    "# Найдите минимальную и максимальную скорость загрузки\n",
    "argmin_download = df_clean['Download (Mbit/s)'].argmin()\n",
    "argmax_download = df_clean['Download (Mbit/s)'].argmax()\n",
    "\n",
    "# Найдите минимальную и максимальную скорость выгрузки\n",
    "argmin_upload = df_clean['Upload (Mbit/s)'].argmin()\n",
    "argmax_upload = df_clean['Upload (Mbit/s)'].argmax()"
   ]
  },
  {
   "cell_type": "markdown",
   "metadata": {},
   "source": [
    "Функции `argmin` и `argmax` возвращают индекс по отношению к строкам `Dataframe`. Чтобы получить доступ к определенной строке по её индексу, используйте `iloc`."
   ]
  },
  {
   "cell_type": "code",
   "execution_count": null,
   "metadata": {
    "collapsed": true
   },
   "outputs": [],
   "source": [
    "# Ячейка для кода № 26\n",
    "# Создайте небольшой кадр данных и получите доступ к его строкам с помощью iloc\n",
    "\n",
    "# Кадр дранных pandas может быть инициализирован передачей dict в качестве параметра в конструктор pd.DataFrame(). \n",
    "# Ключ будет представлять собой столбец значений строк.\n",
    "df = pd.DataFrame({'field_1': [0,1], 'field_2': [0,2]})\n",
    "df.head()"
   ]
  },
  {
   "cell_type": "code",
   "execution_count": null,
   "metadata": {
    "collapsed": true
   },
   "outputs": [],
   "source": [
    "# Ячейка для кода № 27\n",
    "# Чтобы получить доступ к field_1 первой строки используйте команду iloc()\n",
    "df.iloc[1]['field_1']"
   ]
  },
  {
   "cell_type": "markdown",
   "metadata": {},
   "source": [
    "Используйте индексы, рассчитанные с помощью  `argmax` и `argmin` в сочетании с `iloc`, чтобы визуализировать `Date` и `Time` \n",
    "максимального/минимального Ping, Download, и Upload."
   ]
  },
  {
   "cell_type": "code",
   "execution_count": null,
   "metadata": {
    "collapsed": true
   },
   "outputs": [],
   "source": [
    "# Ячейка для кода № 28\n",
    "#Выведите на экран соответствующие значения даты и времени\n",
    "#print('Время пинга достигло минимального значения в {чч:мм:сс} {дата}'.format(df_clean.loc[..., \n",
    "#                                                        df_clean.loc[...))\n",
    "\n",
    "#print('Замер скорости загрузки достиг минимального значения в {чч:мм:сс} {дата}'.format(...\n",
    "\n",
    "#print('Замер скорости выгрузки достиг минимального значения ...\n",
    "\n",
    "#print('Время пинга достигло максимального значения в ... \n",
    "\n",
    "#print('Замер скорости загрузки достиг максимального значения в ...\n",
    "\n",
    "#print('Замер скорости выгрузки достиг максимального значения в ..."
   ]
  },
  {
   "cell_type": "markdown",
   "metadata": {},
   "source": [
    "###### e) Рассчитайте корреляцию.\n",
    "\n",
    "Полезно проанализировать, имеет ли скорость загрузки тенденцию увеличиваться и уменьшаться вместе со скоростью выгрузки. Причиной этого было бы то, что использование сети и технические проблемы должны влиять на загрузку и выгрузку одинаково. \n",
    "\n",
    "В этом случае скорость загрузки и выгрузки будет названа *положительно коррелированной*. Это означает, что более быстрая загрузка и выгрузка обычно происходят вместе. Это относится к общей тенденции, но случаи быстрой загрузки с медленной выгрузкой все равно будут возможны. \n",
    "\n",
    "С другой стороны, вы можете сделать вывод о том, что более высокая скорость загрузки подразумевает более низкую скорость выгрузки и наоборот. В этом случае аргументом будет то, что интернет-линия может поддерживать обмен только ограниченного объема информации. Загрузка и выгрузка затем будет конкурировать и держать друг друга 'под контролем'.\n",
    "\n",
    "В этом случае скорость загрузки и выгрузки будет вызвана *отрицательно коррелированной*. Это означает, что загрузка, как правило, будет быстрее, когда выгрузка будет медленнее, и наоборот. Как и прежде, это будет относиться к тенденции, так что одновременно хорошая скорость загрузки и выгрузки будет по-прежнему возможна. \n",
    "\n",
    "Чтобы завершить картину, время пинга может быть положительно или отрицательно коррелировано с загрузкой или выгрузкой. Тогда естественно думать о таблице, где каждая величина сравнивается со всеми другими. Такие таблицы являются известными математическими объектами, и дублируются *корреляционными матрицами*. \n",
    "\n",
    "Используйте функцию `corr` библиотеки `pandas` для получения корреляционной матрицы времени пинга, скорости загрузки, и выгрузки. Сохраните результат в переменной под названием `df_corr`. "
   ]
  },
  {
   "cell_type": "code",
   "execution_count": null,
   "metadata": {
    "collapsed": true
   },
   "outputs": [],
   "source": [
    "# Ячейка для кода № 29\n",
    "# Связаны ли эти переменные?\n",
    "df_corr = df_clean.corr()\n",
    "df_corr"
   ]
  },
  {
   "cell_type": "code",
   "execution_count": null,
   "metadata": {
    "collapsed": true
   },
   "outputs": [],
   "source": [
    "# Ячейка для кода № 30\n",
    "corr = df_corr.values\n",
    "print('Коэффициент корреляции между временем пинга и скоростью загрузки: {}'.format(corr[0, 1]))\n",
    "print('Коэффициент корреляции между временем пинга и скоростью выгрузки: {}'.format(corr[0, 2]))\n",
    "print('Коэффициент корреляции между скоростью загрузки и скоростью выгрузки: {}'.format(corr[2, 1]))"
   ]
  },
  {
   "cell_type": "markdown",
   "metadata": {},
   "source": [
    "Эти цифры отвечают на вопросы об 'отношениях' между временем пинга, скоростью загрузки, и скоростью выгрузки. Идеальная положительная корреляция дает значение +1, тогда как идеальная отрицательная корреляция дает значение -1. Тем не менее, корреляции между скоростью загрузки и временем пинга, а также между скоростью загрузки и скоростью выгрузки близки к нулю. Более того, корреляция между скоростью выгрузки и временем пинга невелика. Это приводит к выводу, что три величины фактически взаимно **некоррелированные**. \n",
    "\n"
   ]
  },
  {
   "cell_type": "markdown",
   "metadata": {},
   "source": [
    "## Часть 2. Визуализация данных"
   ]
  },
  {
   "cell_type": "markdown",
   "metadata": {},
   "source": [
    "Как говорится в пословице: 'Лучше один раз увидеть, чем сто раз услышать'. Информативные, осмысленные и интуитивные графики играют решающую роль в исследовании данных. Графики полезны на начальных этапах проекта, и далеко за его пределами. Графы - отличный способ представить результаты и выводы вашей работы перед аудиторией.\n",
    "\n",
    "Python имеет обширную библиотеку для создания графиков под названием `Matplotlib`. В качестве дополнительного учебного ресурса, безусловно, стоит взглянуть на официальную документацию [Matplotlib](http://matplotlib.org/index.html), и в частности на многочисленные [примеры](http://matplotlib.org/examples/index.html). "
   ]
  },
  {
   "cell_type": "markdown",
   "metadata": {},
   "source": [
    "#### Шаг 1. Создайте первую визуализацию данных скорости Интернета.\n",
    "\n",
    "Визуализируйте содержимое `df_clean` `DataFrame`."
   ]
  },
  {
   "cell_type": "markdown",
   "metadata": {},
   "source": [
    "###### a) Импорт Matplotlib."
   ]
  },
  {
   "cell_type": "code",
   "execution_count": null,
   "metadata": {
    "collapsed": true
   },
   "outputs": [],
   "source": [
    "# Ячейка для кода № 31\n",
    "import matplotlib.pyplot as plt\n",
    "# Следующий код позволяет вашему блокноту Jupyter создавать графики внутри ячейки\n",
    "%matplotlib inline "
   ]
  },
  {
   "cell_type": "markdown",
   "metadata": {},
   "source": [
    "###### b) График статистики по скорости интернета.\n",
    "\n",
    "Основываясь на том, что вы узнали в лабораторной работе SF_Crime_Data lab,  сгенерируйте график, содержащий три строки: 1. ping (ms), как функция от времени, 2. upload (Mbit/s), как функция от времени, и 3. download (Mbit/s), как функция от времени. Используйте функцию legend() , чтобы добавить легенду к вашему графику, но не беспокойтесь о маркировке осей. Мы узнаем, как это сделать чуть позже.  "
   ]
  },
  {
   "cell_type": "code",
   "execution_count": null,
   "metadata": {
    "collapsed": true
   },
   "outputs": [],
   "source": [
    "# Ячейка для кода № 32\n",
    "# Инициализируйте рисунок \n",
    "fig, ax = plt.subplots(figsize=(10, 5))\n",
    "\n",
    "# Создайте ось x\n",
    "t = pd.to_datetime(df_clean['Time'])\n",
    "\n",
    "\n",
    "# Выведите три кривые разных цветов\n",
    "az.plot(t, df_clean['Ping (ms)'], label='Ping (ms)')\n",
    "#ax.plot(...\n",
    "#ax.plot(...\n",
    "\n",
    "# Добавьте легенду\n",
    "ax.legend()\n",
    "plt.show()"
   ]
  },
  {
   "cell_type": "markdown",
   "metadata": {},
   "source": [
    "###### c) Измените стиль линий.\n",
    "Поскольку измерения времени пинга включают в себя большие и резкие изменения, они, возможно, лучше визуализируются с использованием точек. Внутри команды `ax.plot(...)` для обработки данных о времени пинга, укажите, что эти измерения представлены в виде точек. (Здесь можно повторно использовать большую часть кода из предыдущей задачи.) "
   ]
  },
  {
   "cell_type": "code",
   "execution_count": null,
   "metadata": {
    "collapsed": true
   },
   "outputs": [],
   "source": [
    "# Ячейка для кода № 33\n",
    "# Инициализируйте рисунок\n",
    "fig, ax = plt.subplots(figsize=(10, 5))\n",
    "\n",
    "# Нарисуйте три кривых. Данные о времени пинга \n",
    "# визуализируются с использованием точек\n",
    "t = pd.to_datetime(df_clean['Time'])\n",
    "\n",
    "#ax.plot(...\n",
    "#ax.plot(...\n",
    "#ax.plot(...\n",
    "\n",
    "# Добавьте легенду"
   ]
  },
  {
   "cell_type": "markdown",
   "metadata": {},
   "source": [
    "###### d) Добавьте обозначения осей."
   ]
  },
  {
   "cell_type": "markdown",
   "metadata": {},
   "source": [
    "График без названия и обозначения осей трудно понять, так как нельзя точно знать, какие значения изображаются. Сделайте приведенный выше график совместимым со стандартной научной практикой, добавив обозначения осей и название. Укажите размер шрифта около 16, чтобы название и ярлыки были напечатаны красиво и понятно. "
   ]
  },
  {
   "cell_type": "code",
   "execution_count": null,
   "metadata": {
    "collapsed": true
   },
   "outputs": [],
   "source": [
    "# Ячейка для кода № 35\n",
    "# Инициализируйте рисунок\n",
    "fig, ax = plt.subplots(figsize=(10, 5))\n",
    "\n",
    "# Нарисуйте три кривых\n",
    "t = pd.to_datetime(df_clean['Time'])\n",
    "ax.plot(t, df_clean['Ping (ms)'], 'o', label='Ping (ms)')\n",
    "ax.plot(t, df_clean['Upload (Mbit/s)'], label='Upload (Mbit/s)')\n",
    "ax.plot(t, df_clean['Download (Mbit/s)'], label='Download (Mbit/s)')\n",
    "\n",
    "# Добавьте легенду\n",
    "ax.legend()\n",
    "\n",
    "# Добавить обозначения осей и название\n",
    "#ax.set_xlabel(...\n",
    "#ax.set_ylabel(...\n",
    "#ax.set_title(...\n",
    "\n",
    "# Измените размер отметок\n",
    "ax.tick_params(labelsize=14)"
   ]
  },
  {
   "cell_type": "markdown",
   "metadata": {
    "collapsed": true
   },
   "source": [
    "###### e)  Измените тему диаграммы.\n",
    "Используйте `'fivethirtyeight'` [style context](http://matplotlib.org/examples/style_sheets/plot_fivethirtyeight.html) , чтобы сделать предыдущий график более привлекательным. Для этого добавьте строку с `with` в ваш код, перед вызовом функций `Matplotlib`."
   ]
  },
  {
   "cell_type": "code",
   "execution_count": null,
   "metadata": {
    "collapsed": true
   },
   "outputs": [],
   "source": [
    "# Ячейка для кода № 36\n",
    "# Используйте style context\n",
    "#with ...\n",
    "\n",
    "    # Инициализируйте рисунок\n",
    "    #fig, ax = \n",
    "    \n",
    "    # Отобразите время пинга, как функцию от времени\n",
    " \n",
    "    # Добавить обозначения осей и название\n",
    "    \n",
    "    # Измените размер отметок"
   ]
  },
  {
   "cell_type": "markdown",
   "metadata": {},
   "source": [
    "###### f) Создайте гистограмму.\n",
    "\n",
    "Гистограмма представляет собой графическое представление частоты значений числовых данных. Изучите приведенный ниже код. Дополнительным уровнем сложности является использование функции 'subplot()' для отображения гистограмм бок о бок. "
   ]
  },
  {
   "cell_type": "code",
   "execution_count": null,
   "metadata": {
    "collapsed": true
   },
   "outputs": [],
   "source": [
    "# Ячейка для кода № 37\n",
    "with plt.style.context('fivethirtyeight'):\n",
    "    \n",
    "    nbins = 100\n",
    "    # Инициализируйте рисунок\n",
    "    fig, ax = plt.subplots(2, 2, figsize=(10, 10))\n",
    "    ax[0][0].hist(df_clean['Ping (ms)'], nbins)\n",
    "    ax[0][0].set_xlabel('Ping (ms)', fontsize=16)\n",
    "    ax[0][0].tick_params(labelsize=14)\n",
    "    ax[0][1].hist(df_clean['Upload (Mbit/s)'], nbins)\n",
    "    ax[0][1].set_xlabel('Upload (Mbit/s)', fontsize=16)\n",
    "    ax[0][1].tick_params(labelsize=14)\n",
    "    ax[1][0].hist(df_clean['Download (Mbit/s)'], nbins)\n",
    "    ax[1][0].set_xlabel('Download (Mbit/s)', fontsize=16)\n",
    "    ax[1][0].tick_params(labelsize=14)\n",
    "    ax[1][1].set_visible(False)"
   ]
  },
  {
   "cell_type": "markdown",
   "metadata": {
    "collapsed": true
   },
   "source": [
    "<font size='0.5'>&copy; 2017 Cisco and/or its affiliates. All rights reserved. This document is Cisco Public.<font>"
   ]
  }
 ],
 "metadata": {
  "kernelspec": {
   "display_name": "Python 3",
   "language": "python",
   "name": "python3"
  },
  "language_info": {
   "codemirror_mode": {
    "name": "ipython",
    "version": 3
   },
   "file_extension": ".py",
   "mimetype": "text/x-python",
   "name": "python",
   "nbconvert_exporter": "python",
   "pygments_lexer": "ipython3",
   "version": "3.7.0"
  }
 },
 "nbformat": 4,
 "nbformat_minor": 1
}
